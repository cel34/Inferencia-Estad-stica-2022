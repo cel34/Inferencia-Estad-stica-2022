{
 "cells": [
  {
   "cell_type": "markdown",
   "metadata": {},
   "source": [
    "![imagenes](logo.png)"
   ]
  },
  {
   "cell_type": "markdown",
   "metadata": {},
   "source": [
    "# Dataframes\n",
    "\n",
    "Generalmente, las bases de datos, o tablas, no las tendrás como objetos propios de **R** sino como archivos externos. Lo más usual es que sean archivos de tipo csv (comma separated values). \n",
    "\n",
    "[Aquí](https://github.com/scidatmath2020/Inferencia-Estad-stica-2022/blob/main/data/online_retail2.txt) puedes ver el enlace para descargar un archivo de tipo csv."
   ]
  },
  {
   "cell_type": "markdown",
   "metadata": {},
   "source": [
    "Salvo pocas excepciones, el camino que te recomendamos a seguir cuando tienes (o descargas) un csv y lo quieres leer con **R** es el siguiente:\n",
    "\n",
    "0. Descargar el archivo en una carpeta bien ubicada.\n",
    "1. Dirigir a **R** hacia esa carpeta. Eso lo haces con la función ``setwd(*dirección dentro de tu equipo donde guardaste el archivo*)``.\n",
    "2. Leer el archivo con ``read.csv()`` o ``read_csv()`` asignandole un nombre"
   ]
  },
  {
   "cell_type": "markdown",
   "metadata": {},
   "source": [
    "Una vez que tenemos nuestro archivo csv **como objeto de R**, lo que obtenemos es un *dataframe*.\n",
    "\n",
    "Como hemos dicho anteriormente, los dataframes son tablas de información: \n",
    "![imagenes](im002.png)"
   ]
  },
  {
   "cell_type": "markdown",
   "metadata": {},
   "source": [
    "En los dataframes tenemos columnas (llamadas *características* o *campos*) y filas (llamadas *observaciones* o *registros*).\n",
    "\n",
    "Para visualizar un dataframe en **R** utilizamos la función ``View(*nombre del dataframe como objeto de R*)``\n",
    "\n",
    "A veces los dataframes son muy grandes, y con solo ver los primeros renglones nos podemos hacer una idea del tipo de información que tenemos. Esto lo hacemos con la función ``head(*nombre del dataframe como objeto de R*,*número de renglones que quieres ver*)``"
   ]
  },
  {
   "cell_type": "markdown",
   "metadata": {},
   "source": [
    "Podemos accesar a los nombres de las columnas con la función ``names(*nombre del dataframe como objeto de R*)``.\n",
    "\n",
    "Una vez que conocemos los nombres, puedes accesar a cualquier columna con el comando ``$`` tal como sucede en las listas: ``*nombre del dataframe como objeto de R*$*nombre de la columna*``"
   ]
  },
  {
   "cell_type": "markdown",
   "metadata": {},
   "source": [
    "Otra propiedad importante que tienen los dataframes es que las filas también pueden tener un nombre. Para dar nombres a las filas podemos hacerlo desde la creación del dataframe con la función ``row.names(nombre del dataframe como objeto de R*$*nombre de la columna)``."
   ]
  },
  {
   "cell_type": "markdown",
   "metadata": {},
   "source": [
    "En general, para conocer la estructura de un dataframe utilizamos ``str(*nombre del dataframe como objeto de R*)``"
   ]
  },
  {
   "cell_type": "markdown",
   "metadata": {},
   "source": [
    "Por otra parte, seguramente nos puede interesar obtener rápidamente el número de filas o columnas del dataframe. Para ello contamos con las funciones ``nrow(*nombre del dataframe como objeto de R*)``, ``ncol(*nombre del dataframe como objeto de R*)`` y ``dim(*nombre del dataframe como objeto de R*)``"
   ]
  },
  {
   "cell_type": "markdown",
   "metadata": {},
   "source": [
    "Otra función de mucha utilidad es ``unique()``. Sirve para encontrar los elementos diferentes en un vector. \n",
    "\n",
    "Como las columnas de un dataframe son técnicamente vectores, nos permite hallar los elementos diferentes de una columna: ``unique(*nombre del dataframe como objeto de R*$*nombre de la columna*)``\n",
    "\n",
    "A su vez, una función parecida es ``table()``. Esta hace lo mismo que ``unique()`` pero además nos dice cuántos registros pertenecen a cada valor único. Es decir, cuántas repeticiones tiene cada valor: ``table(*nombre del dataframe como objeto de R*$*nombre de la columna*)``"
   ]
  },
  {
   "cell_type": "markdown",
   "metadata": {},
   "source": [
    "## Indexado de dataframes\n",
    "\n",
    "Como los dataframes tienen dos dimensiones (filas y columnas), su indexado depende de dos parámetros. Es decir, de la forma ``mi_dataframe[*filas*,*columnas*]``"
   ]
  },
  {
   "cell_type": "code",
   "execution_count": null,
   "metadata": {},
   "outputs": [],
   "source": [
    "# Elegir las filas de la 100 a la 500:\n",
    "mi_dataframe[100:500,]"
   ]
  },
  {
   "cell_type": "code",
   "execution_count": null,
   "metadata": {},
   "outputs": [],
   "source": [
    "# Elegir las filas 1,5 y 1000:\n",
    "mi_dataframe[c(1,5,1000),]"
   ]
  },
  {
   "cell_type": "code",
   "execution_count": null,
   "metadata": {},
   "outputs": [],
   "source": [
    "# Elegir las columnas Invoice y Price\n",
    "mi_dataframe[,c(\"Invoice\",\"Price\")] # o mi_dataframe[,c(\"Price\",\"Invoice\")] "
   ]
  },
  {
   "cell_type": "code",
   "execution_count": null,
   "metadata": {},
   "outputs": [],
   "source": [
    "# Elegir las columnas 2, 5 y 7\n",
    "mi_dataframe[,c(2,5,7)]"
   ]
  },
  {
   "cell_type": "code",
   "execution_count": null,
   "metadata": {},
   "outputs": [],
   "source": [
    "# Elegir las columnas 2, 5, 7 y las filas 1, 5 y 1000\n",
    "mi_dataframe[c(1,5,1000),c(2,5,7)]"
   ]
  },
  {
   "cell_type": "code",
   "execution_count": null,
   "metadata": {},
   "outputs": [],
   "source": [
    "# Elegir la subtabla donde el país es Francia\n",
    "mi_dataframe[mi_dataframe$Country == \"France\",]"
   ]
  },
  {
   "cell_type": "code",
   "execution_count": null,
   "metadata": {},
   "outputs": [],
   "source": [
    "# Elegir la subtabla donde el precio es negativo\n",
    "mi_dataframe[mi_dataframe$Price < 0,]"
   ]
  },
  {
   "cell_type": "code",
   "execution_count": null,
   "metadata": {},
   "outputs": [],
   "source": [
    "# Cambiar el precio a 0 donde el precio es negativo\n",
    "mi_dataframe[mi_dataframe$Price < 0,] <- 0"
   ]
  }
 ],
 "metadata": {
  "kernelspec": {
   "display_name": "R",
   "language": "R",
   "name": "ir"
  },
  "language_info": {
   "codemirror_mode": "r",
   "file_extension": ".r",
   "mimetype": "text/x-r-source",
   "name": "R",
   "pygments_lexer": "r",
   "version": "3.6.1"
  }
 },
 "nbformat": 4,
 "nbformat_minor": 4
}
