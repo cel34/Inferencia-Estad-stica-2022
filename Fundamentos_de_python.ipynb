{
  "nbformat": 4,
  "nbformat_minor": 0,
  "metadata": {
    "colab": {
      "provenance": [],
      "include_colab_link": true
    },
    "kernelspec": {
      "name": "python3",
      "display_name": "Python 3"
    },
    "language_info": {
      "name": "python"
    }
  },
  "cells": [
    {
      "cell_type": "markdown",
      "metadata": {
        "id": "view-in-github",
        "colab_type": "text"
      },
      "source": [
        "<a href=\"https://colab.research.google.com/github/cel34/Inferencia-Estad-stica-2022/blob/main/Fundamentos_de_python.ipynb\" target=\"_parent\"><img src=\"https://colab.research.google.com/assets/colab-badge.svg\" alt=\"Open In Colab\"/></a>"
      ]
    },
    {
      "cell_type": "markdown",
      "source": [
        "# Fundamentos de Python\n",
        "\n",
        "Python es un lenguaje de alto nivel, porque hay muchos modulos y funciones que son faciles de utilizar a comparación con otros lenguajes"
      ],
      "metadata": {
        "id": "_CKdO1h9RsIH"
      }
    },
    {
      "cell_type": "markdown",
      "source": [
        "Existen 2 formas de programar.\n",
        "\n",
        "La programar local con los recursos de tu computadora.\n",
        "\n",
        "Por ejemplo cuando programamos desde el entorno de desarrollo de Visual Studio Code o Jupyter\n",
        "\n",
        "Y la segunda es cuando programa en la nube, cuando hacemos no estamos usando los recursos de nuestra computadora sino los de alguien más por ejemplo con google coolaboratory"
      ],
      "metadata": {
        "id": "a_QJMFuMSixW"
      }
    },
    {
      "cell_type": "code",
      "execution_count": null,
      "metadata": {
        "colab": {
          "base_uri": "https://localhost:8080/"
        },
        "id": "O8_ucqT4O7K5",
        "outputId": "4cd05d12-c375-4e98-f229-02eba2cfc3a5"
      },
      "outputs": [
        {
          "output_type": "stream",
          "name": "stdout",
          "text": [
            "80\n"
          ]
        }
      ],
      "source": [
        "### Tienes una lista de números y lo que quieres es encontrar el máximo de esa lista\n",
        "### Los números los da el usuario\n",
        "\n",
        "lista = [32,11,\"Jonatan\",\"Josue\",[1,2,3]]\n",
        "\n",
        "\n",
        "lista_numeros = [5,11,5,80,20]\n",
        "\n",
        "\n",
        "#El truco es recorrer la lista completamente pero guardando el máximo que he encontrado hasta el momento\n",
        "\n",
        "maximo = lista_numeros[0]   #maximo = 80\n",
        "\n",
        "for numero in lista_numeros: #numero =20\n",
        "  if numero > maximo:   # 20 > 80  ---> False\n",
        "    maximo = numero     # máximo = 80\n",
        "\n",
        "print(maximo)"
      ]
    },
    {
      "cell_type": "code",
      "source": [
        "print(\"Hola mundo\")"
      ],
      "metadata": {
        "colab": {
          "base_uri": "https://localhost:8080/"
        },
        "id": "iBsGszyKR6nO",
        "outputId": "c7a2dae2-f36c-4b74-938a-832eaa5b48b3"
      },
      "execution_count": null,
      "outputs": [
        {
          "output_type": "stream",
          "name": "stdout",
          "text": [
            "Hola mundo\n"
          ]
        }
      ]
    },
    {
      "cell_type": "markdown",
      "source": [
        "## Tipos de datos en Python\n"
      ],
      "metadata": {
        "id": "mf-xxjC4SEPG"
      }
    },
    {
      "cell_type": "code",
      "source": [
        "numeros_enteros = 50  #int\n",
        "numeros_decimal = 34.56  #float\n",
        "cadenas_letras = \"Hola mundo\"  #strings\n",
        "booleanos = True   #bool"
      ],
      "metadata": {
        "id": "s6Cd9DGnSIKX"
      },
      "execution_count": null,
      "outputs": []
    },
    {
      "cell_type": "markdown",
      "source": [
        "## Tipos de datos especiales en python"
      ],
      "metadata": {
        "id": "fd8aH0xMUzDY"
      }
    },
    {
      "cell_type": "markdown",
      "source": [
        "## Listas"
      ],
      "metadata": {
        "id": "IURXh8ItXJrw"
      }
    },
    {
      "cell_type": "code",
      "source": [
        "despensa = [\"pan\",\"huevos\",\"leche\"]   #Python siempre empieza a contar desde 0"
      ],
      "metadata": {
        "id": "VqP8pyGqU1M6"
      },
      "execution_count": null,
      "outputs": []
    },
    {
      "cell_type": "code",
      "source": [
        "despensa[2]  #Para accedar a cualquier elemento de una lista usamos corchetes cuadrados y la posición"
      ],
      "metadata": {
        "colab": {
          "base_uri": "https://localhost:8080/",
          "height": 35
        },
        "id": "klea27ywU5dU",
        "outputId": "d4d48dcd-e7cf-44a6-c75e-1b84c49caebc"
      },
      "execution_count": null,
      "outputs": [
        {
          "output_type": "execute_result",
          "data": {
            "text/plain": [
              "'leche'"
            ],
            "application/vnd.google.colaboratory.intrinsic+json": {
              "type": "string"
            }
          },
          "metadata": {},
          "execution_count": 32
        }
      ]
    },
    {
      "cell_type": "code",
      "source": [
        "despensa[-1]  #En python se pueden usar indices negativos por ejemplo despensa[-1] te daria el últimoo elemento de la lista"
      ],
      "metadata": {
        "colab": {
          "base_uri": "https://localhost:8080/",
          "height": 35
        },
        "id": "NlEGKeJpVSVH",
        "outputId": "25b67a85-7979-4c7f-8d3b-efb18e6a6a20"
      },
      "execution_count": null,
      "outputs": [
        {
          "output_type": "execute_result",
          "data": {
            "text/plain": [
              "'leche'"
            ],
            "application/vnd.google.colaboratory.intrinsic+json": {
              "type": "string"
            }
          },
          "metadata": {},
          "execution_count": 33
        }
      ]
    },
    {
      "cell_type": "code",
      "source": [
        "despensa.append(\"chocolate\")\n",
        "\n",
        "despensa"
      ],
      "metadata": {
        "colab": {
          "base_uri": "https://localhost:8080/"
        },
        "id": "GVY4L1AdVcx_",
        "outputId": "1711739c-0bd9-4bdd-feb0-6a731f82f8cf"
      },
      "execution_count": null,
      "outputs": [
        {
          "output_type": "execute_result",
          "data": {
            "text/plain": [
              "['pan', 'huevos', 'leche', 'chocolate']"
            ]
          },
          "metadata": {},
          "execution_count": 34
        }
      ]
    },
    {
      "cell_type": "code",
      "source": [
        "### insertar platanos entre huevo y leche\n",
        "\n",
        "despensa.insert(2,\"platanos\")\n",
        "\n",
        "despensa"
      ],
      "metadata": {
        "colab": {
          "base_uri": "https://localhost:8080/"
        },
        "id": "oI-zK0oOWAGL",
        "outputId": "7503dfbc-476f-4eb2-e9e8-9c602dc92087"
      },
      "execution_count": null,
      "outputs": [
        {
          "output_type": "execute_result",
          "data": {
            "text/plain": [
              "['pan', 'huevos', 'platanos', 'leche', 'chocolate']"
            ]
          },
          "metadata": {},
          "execution_count": 35
        }
      ]
    },
    {
      "cell_type": "code",
      "source": [
        "### Ver cuantos elementos tiene mi lista\n",
        "\n",
        "len(despensa)"
      ],
      "metadata": {
        "colab": {
          "base_uri": "https://localhost:8080/"
        },
        "id": "QW8zhTv3WP8s",
        "outputId": "cf93a416-f1b7-483a-f094-a9c80364f28a"
      },
      "execution_count": null,
      "outputs": [
        {
          "output_type": "stream",
          "name": "stdout",
          "text": [
            "5\n"
          ]
        }
      ]
    },
    {
      "cell_type": "code",
      "source": [
        "despensa.pop()"
      ],
      "metadata": {
        "colab": {
          "base_uri": "https://localhost:8080/",
          "height": 35
        },
        "id": "Hi8vyNTMXDtJ",
        "outputId": "60320124-8b7b-4279-f312-0f450eeb965f"
      },
      "execution_count": null,
      "outputs": [
        {
          "output_type": "execute_result",
          "data": {
            "text/plain": [
              "'chocolate'"
            ],
            "application/vnd.google.colaboratory.intrinsic+json": {
              "type": "string"
            }
          },
          "metadata": {},
          "execution_count": 41
        }
      ]
    },
    {
      "cell_type": "code",
      "source": [
        "despensa"
      ],
      "metadata": {
        "colab": {
          "base_uri": "https://localhost:8080/"
        },
        "id": "6hVYSwevXFz3",
        "outputId": "a49906b8-2a2a-4fa9-e8a4-bc6c24be1b05"
      },
      "execution_count": null,
      "outputs": [
        {
          "output_type": "execute_result",
          "data": {
            "text/plain": [
              "['pan', 'huevos', 'platanos', 'leche']"
            ]
          },
          "metadata": {},
          "execution_count": 42
        }
      ]
    },
    {
      "cell_type": "markdown",
      "source": [
        "## Diccionarios"
      ],
      "metadata": {
        "id": "rKCcpq7kXLeu"
      }
    },
    {
      "cell_type": "code",
      "source": [
        "### No tienen orden\n",
        "### Lo que hacen es relacionar parejas de elementos\n",
        "### Par llave-valor (key-value)\n",
        "### Tambien los podemos pensar como funciones biyectivas\n",
        "\n",
        "### Diccionario ingles-español\n",
        "\n",
        "diccionario = {\"leche\":\"milk\",\"platano\":\"banana\",\"huevo\":\"egg\",\"pan\":\"bread\"}\n",
        "\n",
        "# A diferencia de la listas los diccionarios ocupan corchetes garigoleados"
      ],
      "metadata": {
        "id": "tSmUv3FxXM9J"
      },
      "execution_count": null,
      "outputs": []
    },
    {
      "cell_type": "code",
      "source": [
        "diccionario[\"platano\"]"
      ],
      "metadata": {
        "colab": {
          "base_uri": "https://localhost:8080/",
          "height": 35
        },
        "id": "jOm5vNsPYFlb",
        "outputId": "160814d0-fcf8-482c-9277-feddaf537f8b"
      },
      "execution_count": null,
      "outputs": [
        {
          "output_type": "execute_result",
          "data": {
            "text/plain": [
              "'banana'"
            ],
            "application/vnd.google.colaboratory.intrinsic+json": {
              "type": "string"
            }
          },
          "metadata": {},
          "execution_count": 46
        }
      ]
    },
    {
      "cell_type": "code",
      "source": [
        "diccionario[\"leche\"]"
      ],
      "metadata": {
        "colab": {
          "base_uri": "https://localhost:8080/",
          "height": 35
        },
        "id": "P4ohGSegYQpf",
        "outputId": "72ecd68c-362d-4219-da5b-f1e3f5cb1f0f"
      },
      "execution_count": null,
      "outputs": [
        {
          "output_type": "execute_result",
          "data": {
            "text/plain": [
              "'milk'"
            ],
            "application/vnd.google.colaboratory.intrinsic+json": {
              "type": "string"
            }
          },
          "metadata": {},
          "execution_count": 47
        }
      ]
    },
    {
      "cell_type": "code",
      "source": [
        "diccionario[\"coche\"] = \"car\"\n",
        "\n",
        "print(diccionario)"
      ],
      "metadata": {
        "colab": {
          "base_uri": "https://localhost:8080/"
        },
        "id": "UnQYJBcNYTM3",
        "outputId": "272e38cc-be08-4798-e615-6dd74d65463c"
      },
      "execution_count": null,
      "outputs": [
        {
          "output_type": "stream",
          "name": "stdout",
          "text": [
            "{'leche': 'milk', 'platano': 'banana', 'huevo': 'egg', 'pan': 'bread', 'coche': 'car'}\n"
          ]
        }
      ]
    },
    {
      "cell_type": "code",
      "source": [
        "diccionario.keys()"
      ],
      "metadata": {
        "colab": {
          "base_uri": "https://localhost:8080/"
        },
        "id": "rze_nYQxYcDf",
        "outputId": "7339e090-d786-4bee-a1ad-d1d6ed2d4481"
      },
      "execution_count": null,
      "outputs": [
        {
          "output_type": "execute_result",
          "data": {
            "text/plain": [
              "dict_keys(['leche', 'platano', 'huevo', 'pan', 'coche'])"
            ]
          },
          "metadata": {},
          "execution_count": 51
        }
      ]
    },
    {
      "cell_type": "code",
      "source": [
        "diccionario.values()"
      ],
      "metadata": {
        "colab": {
          "base_uri": "https://localhost:8080/"
        },
        "id": "sYHW-poQYj2u",
        "outputId": "45291433-a5ec-40ca-a3d6-29f38e82408e"
      },
      "execution_count": null,
      "outputs": [
        {
          "output_type": "execute_result",
          "data": {
            "text/plain": [
              "dict_values(['milk', 'banana', 'egg', 'bread', 'car'])"
            ]
          },
          "metadata": {},
          "execution_count": 52
        }
      ]
    },
    {
      "cell_type": "code",
      "source": [
        "ingresos = {\"Andres\":15000,\"Jonatan\":30000,\"Saul\":10000}\n",
        "\n",
        "\n",
        "ingresos[\"Jonatan\"]"
      ],
      "metadata": {
        "colab": {
          "base_uri": "https://localhost:8080/"
        },
        "id": "hrQAoKNyYpfZ",
        "outputId": "a53243a0-9345-4c04-c688-81b6bc6d5432"
      },
      "execution_count": null,
      "outputs": [
        {
          "output_type": "execute_result",
          "data": {
            "text/plain": [
              "30000"
            ]
          },
          "metadata": {},
          "execution_count": 53
        }
      ]
    },
    {
      "cell_type": "code",
      "source": [
        "candidatos = {\"Andres\":{\"Ingresos\":15000,\"Hobby\":\"Guitarra\",\"Edad\":30},\n",
        "              \"Jonatan\":{\"Ingresos\":30000,\"Hobby\":\"Videojuegos\",\"Edad\":25},\n",
        "              \"Saul\":{\"Ingresos\":10000,\"Hobby\":\"Videojuegos\",\"Edad\":25,\"Altura\":180}}"
      ],
      "metadata": {
        "id": "Au01_sYVYz5L"
      },
      "execution_count": null,
      "outputs": []
    },
    {
      "cell_type": "markdown",
      "source": [
        "### Ciclos en python"
      ],
      "metadata": {
        "id": "OrP2_BixaE0D"
      }
    },
    {
      "cell_type": "code",
      "source": [
        "frutas = [\"manzana\",\"banana\",\"pera\"]\n",
        "\n",
        "for f in frutas:  #for + var_aux + in + objeto con orden + :\n",
        "  print(f)"
      ],
      "metadata": {
        "colab": {
          "base_uri": "https://localhost:8080/"
        },
        "id": "JFkWvoX3ZLNW",
        "outputId": "bdb48628-8f1c-4279-d8c0-c18921e736e7"
      },
      "execution_count": null,
      "outputs": [
        {
          "output_type": "stream",
          "name": "stdout",
          "text": [
            "manzana\n",
            "banana\n",
            "pera\n"
          ]
        }
      ]
    },
    {
      "cell_type": "code",
      "source": [
        "candidatos"
      ],
      "metadata": {
        "colab": {
          "base_uri": "https://localhost:8080/"
        },
        "id": "rqEnrtDYbgPN",
        "outputId": "d77a05f8-270e-4dd9-dcf5-808f0d151f2c"
      },
      "execution_count": null,
      "outputs": [
        {
          "output_type": "execute_result",
          "data": {
            "text/plain": [
              "{'Andres': {'Ingresos': 15000, 'Hobby': 'Guitarra', 'Edad': 30},\n",
              " 'Jonatan': {'Ingresos': 30000, 'Hobby': 'Videojuegos', 'Edad': 25},\n",
              " 'Saul': {'Ingresos': 10000,\n",
              "  'Hobby': 'Videojuegos',\n",
              "  'Edad': 25,\n",
              "  'Altura': 180}}"
            ]
          },
          "metadata": {},
          "execution_count": 69
        }
      ]
    },
    {
      "cell_type": "code",
      "source": [
        "### lista de candidatos\n",
        "\n",
        "\n",
        "max = -100000\n",
        "for cand in candidatos.keys():\n",
        "  ingreso_actual = candidatos[cand][\"Ingresos\"]  #acceder a la información del candidato por medio de su nombre\n",
        "  if ingreso_actual > max:\n",
        "    max = ingreso_actual\n",
        "    nombre_candidato = cand\n",
        "\n",
        "print(nombre_candidato)\n",
        "print(max)"
      ],
      "metadata": {
        "colab": {
          "base_uri": "https://localhost:8080/"
        },
        "id": "bUCw1KSjabzj",
        "outputId": "1c0e9089-ee45-4565-8522-a2b628dab3b6"
      },
      "execution_count": null,
      "outputs": [
        {
          "output_type": "stream",
          "name": "stdout",
          "text": [
            "Jonatan\n",
            "30000\n"
          ]
        }
      ]
    },
    {
      "cell_type": "code",
      "source": [
        "candidatos[\"Andres\"]"
      ],
      "metadata": {
        "colab": {
          "base_uri": "https://localhost:8080/"
        },
        "id": "cbmoQ9XQa1SA",
        "outputId": "1e1c7d9c-a5bc-4539-d40b-2d90992d076a"
      },
      "execution_count": null,
      "outputs": [
        {
          "output_type": "execute_result",
          "data": {
            "text/plain": [
              "{'Ingresos': 15000, 'Hobby': 'Guitarra', 'Edad': 30}"
            ]
          },
          "metadata": {},
          "execution_count": 65
        }
      ]
    },
    {
      "cell_type": "markdown",
      "source": [
        "### Función input"
      ],
      "metadata": {
        "id": "9snkIsw4bj6d"
      }
    },
    {
      "cell_type": "code",
      "source": [
        "nombre = input(\"Ingresa tu nombre: \")\n",
        "\n",
        "print(\"Hola\",nombre)"
      ],
      "metadata": {
        "colab": {
          "base_uri": "https://localhost:8080/"
        },
        "id": "_bR9u9drbjGL",
        "outputId": "9e81f94f-39ee-4d31-ce0e-12f0edf55bc6"
      },
      "execution_count": null,
      "outputs": [
        {
          "output_type": "stream",
          "name": "stdout",
          "text": [
            "Ingresa tu nombre: Saul\n",
            "Hola Saul\n"
          ]
        }
      ]
    },
    {
      "cell_type": "code",
      "source": [
        "num1 = input(\"Ingresa un número: \")\n",
        "num2 = input(\"Ingresa otro número: \")\n",
        "num1 = int(num1)\n",
        "num2 = int(num2)\n",
        "\n",
        "print(num1+num2)"
      ],
      "metadata": {
        "colab": {
          "base_uri": "https://localhost:8080/"
        },
        "id": "UK-f_Ms9bv1M",
        "outputId": "db4d0758-e51d-47c9-ea7c-ff0fc6c53e99"
      },
      "execution_count": null,
      "outputs": [
        {
          "output_type": "stream",
          "name": "stdout",
          "text": [
            "Ingresa un número: 32\n",
            "Ingresa otro número: 10\n",
            "42\n"
          ]
        }
      ]
    },
    {
      "cell_type": "code",
      "source": [
        "num1 = float(input(\"Ingresa un número: \"))\n",
        "num2 = float(input(\"Ingresa otro número: \"))\n",
        "\n",
        "\n",
        "print(num1+num2)"
      ],
      "metadata": {
        "colab": {
          "base_uri": "https://localhost:8080/"
        },
        "id": "g3pky6eGcA1v",
        "outputId": "9014666d-e1fb-436f-9af3-1a8b166aa003"
      },
      "execution_count": null,
      "outputs": [
        {
          "output_type": "stream",
          "name": "stdout",
          "text": [
            "Ingresa un número: 32.4\n",
            "Ingresa otro número: 11.5\n",
            "43.9\n"
          ]
        }
      ]
    },
    {
      "cell_type": "markdown",
      "source": [
        "### Funciones"
      ],
      "metadata": {
        "id": "sj40VES3cPSU"
      }
    },
    {
      "cell_type": "code",
      "source": [
        "### Las funciones reciben uno o más objetos y generan un proceso con esos objetos, muchas veces regresan un producto final\n",
        "\n",
        "def suma(num1,num2):  #def + nombre_funcion + argumentos + :\n",
        "  \"\"\"Esta función recibe dos números y regresa su suma\"\"\"\n",
        "  suma = num1+num2\n",
        "  return suma"
      ],
      "metadata": {
        "id": "QgFA16zbcRTO"
      },
      "execution_count": null,
      "outputs": []
    },
    {
      "cell_type": "code",
      "source": [
        "suma(40,23)"
      ],
      "metadata": {
        "colab": {
          "base_uri": "https://localhost:8080/"
        },
        "id": "V0VH_z3KcpKF",
        "outputId": "7869d815-fe7a-4375-a1e4-131ab3408b14"
      },
      "execution_count": null,
      "outputs": [
        {
          "output_type": "execute_result",
          "data": {
            "text/plain": [
              "63"
            ]
          },
          "metadata": {},
          "execution_count": 83
        }
      ]
    }
  ]
}