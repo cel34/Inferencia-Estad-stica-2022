{
 "cells": [
  {
   "cell_type": "markdown",
   "metadata": {},
   "source": [
    "![imagenes](logo.png)"
   ]
  },
  {
   "cell_type": "markdown",
   "metadata": {},
   "source": [
    "# Introducción\n",
    "\n",
    "Platicaremos de los tipos de datos que **R** es capaz de soportar. \n",
    "\n",
    "Podemos decir que hay dos tipos: atómicos y estructurados. \n",
    "\n",
    "Los datos de tipo atómico son números, textos, booleanos, factores y fechas. En tanto los de tipo estructurado son vectores, listas, matrices y dataframes.\n",
    "\n",
    "**Ejemplos.**\n",
    "\n",
    "**Numérico** ``2022``, ``-4``, ``5.3``\n",
    "\n",
    "**Texto (strings)** ``\"Hola a todos\"``, ``\"Esta es una frase\"``, ``\"2022\"``. Siempre están entre comillas.\n",
    "\n",
    "**Booleanos (lógicos)** solo son de dos tipos: verdadero=``TRUE`` y falso=``FALSE``\n",
    "\n",
    "**Factores** Se trata de clasificaciones: ``\"Bueno\"``, ``\"Malo\"``. Siempre están entre comillas.\n",
    "\n",
    "**Vectores** Son arreglos ordenados donde todos los elementos son datos de tipo atómico, todos del mismo tipo: ``c(1,4,-3,2)``, ``c(\"Hola\",\"tengo hambre\")``\n",
    "\n",
    "**Listas** Son arreglos ordenados donde los elementos pueden ser cualquier cosa: ``list(\"hola\",-12,list(3,\"tengo hambre\",\"yo no\"),\"adiós\")``\n",
    "\n",
    "**Matrices** Son arreglos bidimensionales. Se puede pensar como una lista de listas, donde cada todas las listas internas están tienen la misma cantidad de elemntos y todos ellos son del mismo tipo atómico.\n",
    "\n",
    "**Dataframes** son cuadros de datos. Los elementos de cada columna son del mismo tipo.\n"
   ]
  },
  {
   "cell_type": "markdown",
   "metadata": {},
   "source": [
    "## Los operadores de asignación\n",
    "\n",
    "En **R**, para asignarle un nombre a los objetos que vayamos trabajando hay dos maneras de hacerlo: ``nombre <- objeto`` o ``nombre = objeto``. \n",
    "\n",
    "Por ejemplo, ``mis_personas <- c(71.4, 65.1, 63, 94.5)`` o ``mis_personas = c(71.4, 65.1, 63, 94.5)`` "
   ]
  },
  {
   "cell_type": "code",
   "execution_count": null,
   "metadata": {},
   "outputs": [],
   "source": [
    "mis_personas <- c(71.4, 65.1, 63, 94.5)"
   ]
  },
  {
   "cell_type": "code",
   "execution_count": null,
   "metadata": {},
   "outputs": [],
   "source": [
    "mis_personas"
   ]
  },
  {
   "cell_type": "markdown",
   "metadata": {},
   "source": [
    "En RStudio, los objetos que tienen un nombre asignado se pueden ver en la zona de Environment (ambiente).\n",
    "\n",
    "![imagenes](im001.png)"
   ]
  },
  {
   "cell_type": "markdown",
   "metadata": {},
   "source": [
    "## Operaciones aritméticas\n",
    "\n",
    "**R** puede ser utilizado como calculadora de la manera usual con los comandos +, -, * y /, los cuales tienen el mismo significado en todo lenguaje de programación. Sin embargo, las potencias se escriben con `^` "
   ]
  },
  {
   "cell_type": "code",
   "execution_count": null,
   "metadata": {},
   "outputs": [],
   "source": [
    "2^4"
   ]
  },
  {
   "cell_type": "markdown",
   "metadata": {},
   "source": [
    "## Vectores\n",
    "\n",
    "Uno de los objetos más simples, pero mas poderosos, de R son los vectores.\n",
    "\n",
    "Los vectores son listas ordenadas de datos. Por ejemplo mi_vector = c(\"a\",\"hola\",\"tengo hambre\",\"2\"). Sus elementos tienen un orden (primero va la palabra \"a\", luego la palabra \"hola\", luego la frase \"tengo hambre\" y luego la grafía \"2\"); además todos los datos son del mismo tipo.\n",
    "\n",
    "Los vectores en R tienen la propiedad de poseer una longitud: cuántos datos lo forman."
   ]
  },
  {
   "cell_type": "code",
   "execution_count": null,
   "metadata": {},
   "outputs": [],
   "source": [
    "mi_vector = c(\"a\",\"hola\",\"tengo hambre\",\"2\")"
   ]
  },
  {
   "cell_type": "code",
   "execution_count": null,
   "metadata": {},
   "outputs": [],
   "source": [
    "length(mi_vector)"
   ]
  },
  {
   "cell_type": "markdown",
   "metadata": {},
   "source": [
    "Como los datos de un vector tienen un orden, sus elementos pueden ser llamados a través de índices. Aquí es importante saber que R siempre indexa desde 1 (a diferencia de Python que indexa desde 0). Para mandar a llamar al n-ésimo dato de un vector simplemente escribimos nombre_del_vector[n]"
   ]
  },
  {
   "cell_type": "code",
   "execution_count": null,
   "metadata": {},
   "outputs": [],
   "source": [
    "## Llamar el segundo dato de mi_vector\n",
    "mi_vector[2]"
   ]
  },
  {
   "cell_type": "markdown",
   "metadata": {},
   "source": [
    "Si buscas mandar a llamar los elementos 2 y 4, puedes utilizar vectores para indexar vectores."
   ]
  },
  {
   "cell_type": "code",
   "execution_count": null,
   "metadata": {},
   "outputs": [],
   "source": [
    "mi_vector[c(2,4)]"
   ]
  },
  {
   "cell_type": "markdown",
   "metadata": {},
   "source": [
    "**Creación de vectores**\n",
    "\n",
    "Puedes utilizar la sintaxis ``c(dato_1,dato_2,...,dato_l)`` para crear vectores. Los datos deben ir dentro de los paréntesis separados por una coma, y recuerda que todos los datos deben ser del mismo tipo; es decir, o todos son textos, o todos son números.\n",
    "\n",
    "Por ejemplo, supongamos que tengo cuatro personas y voy a guardar sus pesos en kilogramos. Si estos pesos son 71.4, 65.1, 63 y 94.5, entonces el comando ``mis_personas = c(71.4, 65.1, 63, 94.5)`` me creará un vector con esos pesos."
   ]
  },
  {
   "cell_type": "code",
   "execution_count": null,
   "metadata": {},
   "outputs": [],
   "source": [
    "mis_personas = c(71.4, 65.1, 63, 94.5)\n",
    "mis_personas"
   ]
  },
  {
   "cell_type": "code",
   "execution_count": null,
   "metadata": {},
   "outputs": [],
   "source": [
    "# La persona 3 pesa\n",
    "mis_personas[3]"
   ]
  },
  {
   "cell_type": "markdown",
   "metadata": {},
   "source": [
    "## Listas\n",
    "\n",
    "Las listas en **R** son objetos con una gran flexibilidad. Se trata de *conjuntos ordenados* (es decir, hay un primer elemento, un segundo elemento, etcétera) de una sola dimensión (es decir, tienen longitud) con la particularidad de que sus elementos pueden ser cualquier tipo de objetos; incluso, otras listas."
   ]
  },
  {
   "cell_type": "markdown",
   "metadata": {},
   "source": [
    "Para crear listas en **R**, utilizamos la función ``list()``. Es muy parecido a crear vectores, pero con la gran diferencia de que los elementos de la lista pueden ser de cualquier tipo."
   ]
  },
  {
   "cell_type": "code",
   "execution_count": null,
   "metadata": {},
   "outputs": [],
   "source": [
    "lista_ejemplo  <- list(1,2,\"3\")"
   ]
  },
  {
   "cell_type": "markdown",
   "metadata": {},
   "source": [
    "Así, puedes pensar que una lista es una caja muy grande donde vas a guardar tus objetos de manera ordenada.\n",
    "\n",
    "Las listas tienen propiedad de nombres. Para accesar a los nombres (o modificarlos) lo podemos hacer desde la creación de la lista o con la función names()"
   ]
  },
  {
   "cell_type": "code",
   "execution_count": null,
   "metadata": {},
   "outputs": [],
   "source": [
    "mi_lista <- list(mi_vector = c(1,2,3), mis_str = c(\"Hola a todos\",\"Adiós\"), mi_booleano = TRUE)"
   ]
  },
  {
   "cell_type": "code",
   "execution_count": null,
   "metadata": {},
   "outputs": [],
   "source": [
    "names(mi_lista)"
   ]
  },
  {
   "cell_type": "code",
   "execution_count": null,
   "metadata": {},
   "outputs": [],
   "source": [
    "mi_lista"
   ]
  },
  {
   "cell_type": "code",
   "execution_count": null,
   "metadata": {},
   "outputs": [],
   "source": [
    "mi_lista$mi_vector"
   ]
  },
  {
   "cell_type": "code",
   "execution_count": null,
   "metadata": {},
   "outputs": [],
   "source": [
    "names(mi_lista)[2] <- \"logico\""
   ]
  },
  {
   "cell_type": "code",
   "execution_count": null,
   "metadata": {},
   "outputs": [],
   "source": [
    "mi_lista"
   ]
  },
  {
   "cell_type": "markdown",
   "metadata": {},
   "source": [
    "## Indexado de listas\n",
    "\n",
    "En las listas tenemos *dos niveles* de indexado, llamados **nivel del objeto subyacente** y **nivel de lista**.\n",
    "\n",
    "El nivel del objeto subyacente se refiere al indexado que nos permite **entrar al objeto al cual hace referencia el índice**. Este nivel se especifica con corchetes dobles ``[[  ]]``.\n",
    "\n",
    "El nivel de lista se refiere al indexado que nos permite **saber qué hay en la posición, a la cual hace referencia el índice, dentro de la lista**. Este nivel se especifica con corchetes simples ``[  ]``."
   ]
  },
  {
   "cell_type": "code",
   "execution_count": null,
   "metadata": {},
   "outputs": [],
   "source": [
    "mi_lista[[2]]"
   ]
  },
  {
   "cell_type": "code",
   "execution_count": null,
   "metadata": {},
   "outputs": [],
   "source": [
    "mi_lista[2]"
   ]
  },
  {
   "cell_type": "markdown",
   "metadata": {},
   "source": [
    "Te preguntarás por qué existen dos niveles de indexado en las listas. Esto se debe a que las listas aceptan diferentes tipos de objetos en sus entradas.\n",
    "\n",
    "De esta manera, por ejemplo, si quieres obtener los elementos 2 y 3 de una lista, entonces estás en el nivel de lista y por lo tanto indexas con corchetes simples: ``mi_lista[c(2,3)]``.\n",
    "\n",
    "En cambio, si quieres entrar al segundo objeto de una lista por cualquier razón, debes usar doble corchete. Por ejemplo, el segundo elemento de ``mi_lista`` es un vector de dos textos, así que para mostrar el segundo elemento de este vector hacemos ``mi_lista[[2]][2]``\n"
   ]
  },
  {
   "cell_type": "code",
   "execution_count": null,
   "metadata": {},
   "outputs": [],
   "source": [
    "mi_lista[c(2,3)]"
   ]
  },
  {
   "cell_type": "code",
   "execution_count": null,
   "metadata": {},
   "outputs": [],
   "source": [
    "mi_lista[[2]][1]"
   ]
  },
  {
   "cell_type": "code",
   "execution_count": null,
   "metadata": {},
   "outputs": [],
   "source": [
    "mi_lista[[2]][1] <- \"Un saludo a todos\""
   ]
  },
  {
   "cell_type": "code",
   "execution_count": null,
   "metadata": {},
   "outputs": [],
   "source": [
    "mi_lista[2]"
   ]
  }
 ],
 "metadata": {
  "kernelspec": {
   "display_name": "R",
   "language": "R",
   "name": "ir"
  },
  "language_info": {
   "codemirror_mode": "r",
   "file_extension": ".r",
   "mimetype": "text/x-r-source",
   "name": "R",
   "pygments_lexer": "r",
   "version": "3.6.1"
  }
 },
 "nbformat": 4,
 "nbformat_minor": 4
}
