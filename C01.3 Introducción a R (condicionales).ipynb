{
 "cells": [
  {
   "cell_type": "markdown",
   "metadata": {},
   "source": [
    "![imagenes](logo.png)"
   ]
  },
  {
   "cell_type": "markdown",
   "metadata": {},
   "source": [
    "# Condicionales\n",
    "\n",
    "Supongamos ahora que nos interesa crear una nueva columna de un dataframe basada en la información uno u otras columnas. Es decir, condicionando sobre cierta información.\n",
    "\n",
    "Para esto, utilizamos la función ``ifelse()``. Veamos un ejemplo para entender su sintaxis:"
   ]
  },
  {
   "cell_type": "code",
   "execution_count": null,
   "metadata": {},
   "outputs": [],
   "source": [
    "# Agregar una columna al data frame de la lámina C01.2 de tal manera que indique TRUE si el país del cliente es Brasil\n",
    "# Y FALSE en caso contrario\n",
    "\n",
    "mi_dataframe$Brazil <- ifelse(mi_dataframe$Country == \"Brazil\",TRUE,FALSE)"
   ]
  },
  {
   "cell_type": "markdown",
   "metadata": {},
   "source": [
    "## Operadores de comparación\n",
    "\n",
    "Surge ahora, de manera natural, plantearnos cómo podemos establecer *comparaciones* entre los datos para poder establecer condiciones.\n",
    "\n",
    "Para ello, **R** cuenta con operadores de comparación: \n",
    "\n",
    "* ``>`` y ``<``\n",
    "* ``>=`` y ``<=``\n",
    "* ``==`` para igualdad exacta y ``!=`` para desigualdad. Estos funcionan incluso con textos.\n",
    "\n",
    "Veamos algunos ejemplos:"
   ]
  },
  {
   "cell_type": "code",
   "execution_count": 1,
   "metadata": {},
   "outputs": [],
   "source": [
    "Luis <- 32\n",
    "Sara <- 25\n",
    "Omar <- 21\n",
    "Miguel <- 12\n",
    "Raul <- 2"
   ]
  },
  {
   "cell_type": "code",
   "execution_count": 2,
   "metadata": {},
   "outputs": [
    {
     "data": {
      "text/html": [
       "FALSE"
      ],
      "text/latex": [
       "FALSE"
      ],
      "text/markdown": [
       "FALSE"
      ],
      "text/plain": [
       "[1] FALSE"
      ]
     },
     "metadata": {},
     "output_type": "display_data"
    }
   ],
   "source": [
    "Luis < 32"
   ]
  },
  {
   "cell_type": "code",
   "execution_count": 3,
   "metadata": {},
   "outputs": [
    {
     "data": {
      "text/html": [
       "FALSE"
      ],
      "text/latex": [
       "FALSE"
      ],
      "text/markdown": [
       "FALSE"
      ],
      "text/plain": [
       "[1] FALSE"
      ]
     },
     "metadata": {},
     "output_type": "display_data"
    }
   ],
   "source": [
    "Luis > 32"
   ]
  },
  {
   "cell_type": "code",
   "execution_count": null,
   "metadata": {},
   "outputs": [],
   "source": [
    "Luis <= 32"
   ]
  },
  {
   "cell_type": "code",
   "execution_count": null,
   "metadata": {},
   "outputs": [],
   "source": [
    "Luis == 32"
   ]
  },
  {
   "cell_type": "code",
   "execution_count": null,
   "metadata": {},
   "outputs": [],
   "source": [
    "Luis != 32"
   ]
  },
  {
   "cell_type": "markdown",
   "metadata": {},
   "source": [
    "## Operadores lógicos\n",
    "\n",
    "Además, podemos hacer comparaciones compuestas utilizando los operadores lógicos:\n",
    "\n",
    "* ``&`` para Y. Recordemos que una proposición de la forma \"$A_1$ y $A_2$ y $A_3$ y ... y $A_n$\" es verdadera cuando todas las componentes los son. \n",
    "* ``|`` para O. Recordemos que una proposición de la forma \"$A_1$ o $A_2$ o $A_3$ o ... o $A_n$\" es verdadera cuando alguna de las componentes lo es.\n",
    "* ``!`` para negación"
   ]
  },
  {
   "cell_type": "code",
   "execution_count": 8,
   "metadata": {},
   "outputs": [
    {
     "data": {
      "text/html": [
       "TRUE"
      ],
      "text/latex": [
       "TRUE"
      ],
      "text/markdown": [
       "TRUE"
      ],
      "text/plain": [
       "[1] TRUE"
      ]
     },
     "metadata": {},
     "output_type": "display_data"
    }
   ],
   "source": [
    "# Luis es menor que 40 y Omar es mayor o igual a 10\n",
    "Luis < 40 & Omar >= 10"
   ]
  },
  {
   "cell_type": "code",
   "execution_count": 5,
   "metadata": {},
   "outputs": [
    {
     "data": {
      "text/html": [
       "TRUE"
      ],
      "text/latex": [
       "TRUE"
      ],
      "text/markdown": [
       "TRUE"
      ],
      "text/plain": [
       "[1] TRUE"
      ]
     },
     "metadata": {},
     "output_type": "display_data"
    }
   ],
   "source": [
    "# Miguel es mayor que 40 y Luis es menor que 40\n",
    "Miguel > 15 | Luis < 40"
   ]
  },
  {
   "cell_type": "code",
   "execution_count": 6,
   "metadata": {},
   "outputs": [
    {
     "data": {
      "text/html": [
       "FALSE"
      ],
      "text/latex": [
       "FALSE"
      ],
      "text/markdown": [
       "FALSE"
      ],
      "text/plain": [
       "[1] FALSE"
      ]
     },
     "metadata": {},
     "output_type": "display_data"
    }
   ],
   "source": [
    "# Raul es 2 y Sara es menor que 10\n",
    "Raul == 2 & Sara < 10"
   ]
  },
  {
   "cell_type": "code",
   "execution_count": 7,
   "metadata": {},
   "outputs": [
    {
     "data": {
      "text/html": [
       "TRUE"
      ],
      "text/latex": [
       "TRUE"
      ],
      "text/markdown": [
       "TRUE"
      ],
      "text/plain": [
       "[1] TRUE"
      ]
     },
     "metadata": {},
     "output_type": "display_data"
    }
   ],
   "source": [
    "# Raul es 2 y Sara es menor que 10, o Miguel es diferente de 15\n",
    "\n",
    "(Raul == 2 & Sara < 10) | Miguel != 15"
   ]
  },
  {
   "cell_type": "code",
   "execution_count": null,
   "metadata": {},
   "outputs": [],
   "source": [
    "# Añadir una columna que indique \"EXTREMO\" si los precios están por debajo del primer cuantil y por arriba del tercer cuantil,\n",
    "# y que indique \"USUAL\" en caso contrario. ¿Cuántos hay de cada tipo?"
   ]
  }
 ],
 "metadata": {
  "kernelspec": {
   "display_name": "R",
   "language": "R",
   "name": "ir"
  },
  "language_info": {
   "codemirror_mode": "r",
   "file_extension": ".r",
   "mimetype": "text/x-r-source",
   "name": "R",
   "pygments_lexer": "r",
   "version": "3.6.1"
  }
 },
 "nbformat": 4,
 "nbformat_minor": 4
}
