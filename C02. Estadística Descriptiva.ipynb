{
 "cells": [
  {
   "cell_type": "markdown",
   "metadata": {},
   "source": [
    "![imagenes](logo.png)"
   ]
  },
  {
   "cell_type": "markdown",
   "metadata": {},
   "source": [
    "# Estadística descriptiva\n",
    "\n",
    "Antes de dar el salto a la Estadística descriptiva, conviene hacer notar que la información (los datos) se pueden clasificar de acuerdo a la información o características que representan.\n",
    "\n",
    "De esta manera, tenemos dos formas de clasificar a los datos: por su tamaño y por la información que miden.\n",
    "\n",
    "## Clasificación por tamaño.\n",
    "\n",
    "Los clasificamos como *datos muestrales* o *datos poblacionales*.\n",
    "\n",
    "![imagenes](im003.png)\n",
    "\n",
    "Los *datos muestrales* son datos tomados de una *muestra*. Es decir, de un subconjunto de la población de estudio. En tanto los  *poblacionales* son los datos tomados de todo tu universo de estudio."
   ]
  },
  {
   "cell_type": "markdown",
   "metadata": {},
   "source": [
    "## Clasificación por tipo de información\n",
    "\n",
    "A su vez, la clasificación por tipo de información nos brinda dos tipos de datos: *categóricos* y *numéricos*.\n",
    "![imagenes](im004.png)\n",
    "\n",
    "Los *categóricos* nos sirven para dividir por clases o categorías; los numéricos nos permiten medir características.\n",
    "\n",
    "### Datos categóricos\n",
    "\n",
    "Encontramos dos tipos de datos categóricos:\n",
    "\n",
    "* **Nominales.** Únicamente sirven para clasificar por tipo. Por ejemplo, las matrículas de estudiantes, los colores, las marcas de un producto, etcétera.\n",
    "\n",
    "* **Ordinales.** Además de clasificar, las diferentes clases tienen un tipo de orden. Por ejemplo la *escala de Likert*.\n",
    "\n",
    "### Datos numéricos\n",
    "\n",
    "A su vez, los datos numéricos se dividen en \n",
    "\n",
    "* **Intervalo.** En este tipo de datos las restas tienen sentido y no tienen un cero absoluto. Un ejemplo clásico son las temperaturas en $C^\\circ$.\n",
    "\n",
    "* **Radio.** Sirven para medir el orden y el valor exacto, además de tener un cero absoluto. Algunos ejemplos son la altura, el peso y la duración en tiempo."
   ]
  },
  {
   "cell_type": "markdown",
   "metadata": {},
   "source": [
    "## En resumen\n",
    "\n",
    "A modo de resumen, presentamos la siguiente tabla con las características de los tipos de datos clasificados por la información que representan:\n",
    "\n",
    "\n",
    "Característica|Nominal|Ordinal|Intervalo|Radio\n",
    ":--|:-:|:-:|:-:|:-:\n",
    "Hay un orden||sí|sí|sí\n",
    "Miden frecuencias|sí|sí|sí|sí\n",
    "Tienen moda|sí|sí|sí|sí\n",
    "Tienen mediana||sí|sí|sí\n",
    "Se puede cuantificar la diferencia entre dos valores|||sí|sí\n",
    "Los valores se pueden sumar o restar|||sí|sí\n",
    "Las multiplicaciones tienen sentido||||sí\n",
    "Hay un cero absoluto||||sí\n"
   ]
  },
  {
   "cell_type": "markdown",
   "metadata": {},
   "source": [
    "Por otra parte, los datos numéricos se pueden clasificar en otros dos tipos: *discretos* y *continuos*. Los discretos son aquellos que nos permiten contar (por ejemplo, el número de estudiantes que asisten a una sesión de **SciData** cada día); en tanto los datos de tipo continuo no pueden contarse (por ejemplo, la velocidad a la que viaja un automóvil cada minuto durante un trayecto)"
   ]
  },
  {
   "cell_type": "markdown",
   "metadata": {},
   "source": [
    "## Medidas de tendencia central\n",
    "\n",
    "En Estadística, todos los datos están distribuidos a través de varios puntos, que es lo que se conoce como la *distribución de los datos*.\n",
    "\n",
    "A partir de la distribución de los datos es muy complicado llegar a conclusiones, pues muchas veces corresponden a distribuciones demasiado complejas. Sin embargo, muchas veces existe una tendencia de los datos a *juntarse* al rededor de un cierto valor.\n",
    "\n",
    "Este valor es lo que se conoce como una tendencia central. De esta manera, la tendencia central es un representante global de los datos. En particular, representa las características generales del conjunto de datos.\n",
    "\n",
    "Las medidas de tendencia central se clasifican en tres formas: valores promedios, valores de partición y valores repetidos.\n"
   ]
  },
  {
   "cell_type": "markdown",
   "metadata": {},
   "source": [
    "### Valores promedio\n",
    "\n",
    "Existe muchas maneras de formular una valor promedio que represente los datos de tu estudio. La más común es la **media aritmética**, que se define de la siguiente manera:\n",
    "\n",
    "**Media aritmética.** Supongamos que tienes los datos numéricos $x_1,x_2,...,x_n$ (por ejemplo, las estaturas de $n$ personas; o el número de llamadas que recibe cada teléfono de los $n$ teléfonos de un edificio durante cierto periodo de tiempo). Se define su media aritmética como \n",
    "\n",
    "$$\\frac{x_1+x_2+...+x_n}{n}$$\n",
    "\n",
    "Algo importante que debemos tener en cuenta sobre la media aritmética es que es muy susceptible a los valores atípicos. Es decir, la presencia de valores atípicos puede inducir una media aritmética no tan representativa de los datos.\n",
    "\n",
    "**Media aritmética en R.** Si ``x`` es un vector numérico, su media aritmética se calcula como ``mean(x)``"
   ]
  },
  {
   "cell_type": "markdown",
   "metadata": {},
   "source": [
    "### Medidas de partición\n",
    "\n",
    "La función más importante de una medida de partición es dividir la colección de datos en varios subconjuntos. Tenemos aquí la mediana, los cuartiles, los deciles y los percentiles, entre otros.\n",
    "\n",
    "**Mediana.** Se utiliza para dividir las observaciones en el 50\\% más alto y el 50\\% más bajo. Se le considera también una medida de la posición. Además, es muy importante en los llamados gráficos de bigote.\n",
    "\n",
    "**Mediana en R.** Si ``x`` es un vector numérico, su mediana se calcula como ``median(x)``\n",
    "\n",
    "**Cuartiles.** Se utilizan para dividir las observaciones en cuatro partes iguales. Por lo tanto existen tres ellos: $Q_1,Q_2$ y $Q_3$, donde $Q_1$ es la partición hasta el 25\\% de los datos; $Q_2$ es la partición hasta el 50\\% de los datos, y por lo tanto $Q_2=mediana$; y $Q_3$ es la partición hasta el 75\\% de los datos.\n",
    "\n",
    "**Cuartiles en R.** Si ``x`` es un vector numérico, sus cuartiles se calculan con ``quantile(x)``"
   ]
  },
  {
   "cell_type": "markdown",
   "metadata": {},
   "source": [
    "### Medidas de repetición\n",
    "\n",
    "Se trata de lo que se conoce como *moda*:\n",
    "\n",
    "**Moda.** Es el dato que más se repite. En la práctica únicamente se utiliza cuando los datos son de tipo categórico.\n",
    "\n",
    "**Moda en R.** En **R** no hay una función como tal para calcular la moda. No obstante, la función recordemos que la función ``table()`` nos dice cuántas veces se repite cada valor."
   ]
  },
  {
   "cell_type": "markdown",
   "metadata": {},
   "source": [
    "## Medidas de dispersión\n",
    "\n",
    "Las medidas de dispersión sirven para saber qué tan alejados están los datos entre sí. O dicho de otra manera, qué tan parecidos son los datos entre sí.\n",
    "\n",
    "En este curso estudiaremos las cuatro mas importantes:\n",
    "\n",
    "### Rango\n",
    "\n",
    "Se define simplemente como la diferencia entre el valor más alto y el valor más pequeño. Por lo tanto, se ve fuermente afectado por los valores atípicos\n",
    "\n",
    "**Rango en R.** Si ``x`` es un vector numérico, las funciones ``max(x)`` y ``min(x)`` nos devuelven el valor máximo y el valor mínimo de ``x``. Por lo tanto el rango de ``x`` se calcula como ``max(x)-min(x)``.\n",
    "\n",
    "### Desviación media absoluta\n",
    "\n",
    "Considera directamente todas los valores de los datos uno por uno. Se trata de medir cómo se aleja, en promedio, la \"distancia\" entre cada dato y alguna medida de tendencia central. Generalmente esta última se toma como la media aritmética. \n",
    "\n",
    "Así, si $x=(x_1,x_2,...,x_n)$ son los $n$ valores de alguna característica que estás midiendo y representas por $\\overline{x}$ a su media aritmética, entonces la desviación media absoluta viene dada por \n",
    "\n",
    "$$\\frac{|x_1-\\overline{x}|+|x_2-\\overline{x}|+...+|x_n-\\overline{x}|}{n}$$\n",
    "\n",
    "\n",
    "\n",
    "**Desviación media absoluta en R.** Si ``x`` es un vector numérico, la función ``sum(x)`` nos devuelve la suma de los elementos de ``x``. Además si ``a`` es un número, entonces ``abs(a)`` nos devuelve su valor absoluto. Por lo tanto la desviación media absoluta de un vector ``x`` se puede calcular como ``mean(abs(x-mean(x)))``"
   ]
  },
  {
   "cell_type": "markdown",
   "metadata": {},
   "source": [
    "### Desviación intercuartil\n",
    "\n",
    "Representa qué tanto se desvía el 50\\% de los datos \"de enmedio\" respecto de la mediana, por lo que se calcula utilizando $Q_1$ y $Q_3$. Como  no toma en cuenta valores debajo de $Q1$ ni arriba de $Q3$, no se ve afectado por los valores extremos. Tampoco se ve afectado si se suma una constante a todos los datos, pero sí se afecta si se multiplican todos los datos por cualquier número.\n",
    "\n",
    "Se calcula directamente por $Q_3-Q_1$\n",
    "\n",
    "**Desviación intercuartil en R.** Si ``x`` es un vector numérico, el rango intercuartil se calcula como ``IQR(x)``"
   ]
  },
  {
   "cell_type": "markdown",
   "metadata": {},
   "source": [
    "## Desviación estándar y varianza\n",
    "\n",
    "Se denota por **SD**. Es considerada como la mejor medida de dispersión. Se utiliza, junto con la media aritmética, para dar reglas empíricas acerca de los valores poco comunes (como la regla de las desviaciones para distribuciones gaussianas). Al igual que la anterior, no se ve afectada por si sumamos un valor a todos los datos; sin embargo, se afecta (y en gran medida) si todos los datos se multiplican por un mismo número.\n",
    "\n",
    "Existen dos tipos: desviación estándar muestral y desviación estándar poblacional. La muestral se utiliza cuando estás analizando alguna característica de una muestra y es denotada por $s$, en tanto la poblacional es utiliza cuando analizas alguna característica de la del universo de estudio y es denotada por $\\sigma$.\n",
    "\n",
    "Si consideramos que $x=(x_1,x_2,...,x_n)$ son los $n$ valores de alguna característica que estás midiendo y representas por $\\overline{x}$ a su media aritmética, entonces las desviaciones estándar vienen dadas por $$\\left\\{\\begin{array}{rc}\\mbox{SD muestral}=s&=&\\frac{(x_1-\\overline{x})^2+(x_2-\\overline{x})^2+...+(x_n-\\overline{x})^2}{n-1}\\\\\\mbox{SD poblacional}=\\sigma&=&\\frac{(x_1-\\overline{x})^2+(x_2-\\overline{x})^2+...+(x_n-\\overline{x})^2}{n}\\end{array}\\right.$$\n",
    "\n",
    "A su vez, otra medida de dispersión directamente relacionada con la desviación estándar es la varianza. Esta es simplemente el valor de la desviación estándar elevado al cuadrado.\n",
    "\n",
    "**Desviación estándar en R.** Si ``x`` es un vector numérico, su desviación estándar se calcula como ``sd(x)``. **Es importante comentar que R calcula sólamente la desviación muestral.**\n",
    "\n",
    "**Varianza en R.** Si ``x`` es un vector numérico, su desviación estándar se calcula como ``var(x)``. **Es importante comentar que R calcula sólamente la varianza muestral.**"
   ]
  },
  {
   "cell_type": "markdown",
   "metadata": {},
   "source": [
    "## Resumen de funciones:\n",
    "\n",
    "* ``sum(x)`` es la suma de los elementos de ``x``\n",
    "\n",
    "* ``abs(x)`` es el vector formado por los valores absolutos de los elementos de ``x``\n",
    "\n",
    "* ``min(x)`` y ``max(x)`` nos devuelven el mínimo y el máximo valor de los elementos de ``x``\n",
    "\n",
    "* ``which()``: Si ``x`` es un vector, devuelve los índices de los elementos de ``x`` que cumplen una condición lógica.\n",
    "\n",
    "Medida de tendencia o dispersión|Función en R\n",
    ":-:|:-:\n",
    "Media aritmética|``mean(x)``\n",
    "Mediana|``median(x)``\n",
    "Cuartiles|``quantile(x)``\n",
    "Moda|``which(table(x)==max(table(x)))``\n",
    "Rango|``max(x)-min(x)``\n",
    "Desviación media absoluta|``mean(abs(x-mean(x)))``\n",
    "Desviación intercuartil|``IQR(x)``\n",
    "Desviación estándar muestral|``sd(x)``\n",
    "Varianza muestra|``var(x)``"
   ]
  }
 ],
 "metadata": {
  "kernelspec": {
   "display_name": "R",
   "language": "R",
   "name": "ir"
  },
  "language_info": {
   "codemirror_mode": "r",
   "file_extension": ".r",
   "mimetype": "text/x-r-source",
   "name": "R",
   "pygments_lexer": "r",
   "version": "3.6.1"
  }
 },
 "nbformat": 4,
 "nbformat_minor": 4
}
