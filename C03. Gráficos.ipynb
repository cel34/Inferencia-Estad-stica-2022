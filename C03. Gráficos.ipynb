{
 "cells": [
  {
   "cell_type": "markdown",
   "metadata": {},
   "source": [
    "![imagenes](logo.png)"
   ]
  },
  {
   "cell_type": "markdown",
   "metadata": {},
   "source": [
    "# Gráficos\n",
    "\n",
    "Los gráficos son representaciones de la información. Nos sirven, entre otras cosas, para darnos una idea geométrica y visual acerca del comportamiento de los fenómenos que estudiamos.\n",
    "\n",
    "En este capítulo estudiaremos varios tipos de gráficos y veremos cómo realizarlos con **R**."
   ]
  },
  {
   "cell_type": "markdown",
   "metadata": {},
   "source": [
    "## ggplot2 en R\n",
    "\n",
    "**R** tiene una biblioteca avanzada para realizar gráficos de una gran variedad: ggplot2.\n",
    "\n",
    "La función principal de ggplot2 es ``ggplot()``. Su sintaxis básica es \n",
    "\n",
    "``ggplot(data=tabla de datos) + función_tipo_de_grafico(mapping=aes(nombres de las columnas a graficar)) + otros``"
   ]
  },
  {
   "cell_type": "markdown",
   "metadata": {},
   "source": [
    "## Gráficos de línea\n",
    "\n",
    "Los gráficos de línea usualmente son representaciones de datos numéricos que evolucionan a través del tiempo (aunque no se limitan a ello).\n",
    "\n",
    "![imagenes](im005.png)\n"
   ]
  },
  {
   "cell_type": "markdown",
   "metadata": {},
   "source": [
    "En **R**, la sintaxis para hacer una serie de tiempo simple es la siguiente:\n",
    "\n",
    "``ggplot(data=tabla de datos) + geom_line(mapping=aes(x=col1,y=col2)) + otros``\n",
    "\n",
    "En el script [graficos_linea](https://github.com/scidatmath2020/Inferencia-Estad-stica-2022/blob/main/scripts/graficos_linea.R) puedes ver diferentes ejemplos."
   ]
  },
  {
   "cell_type": "markdown",
   "metadata": {},
   "source": [
    "## Gráficos de puntos"
   ]
  }
 ],
 "metadata": {
  "kernelspec": {
   "display_name": "R",
   "language": "R",
   "name": "ir"
  },
  "language_info": {
   "codemirror_mode": "r",
   "file_extension": ".r",
   "mimetype": "text/x-r-source",
   "name": "R",
   "pygments_lexer": "r",
   "version": "3.6.1"
  }
 },
 "nbformat": 4,
 "nbformat_minor": 4
}
