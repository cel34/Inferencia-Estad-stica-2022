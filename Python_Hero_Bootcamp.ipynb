{
  "nbformat": 4,
  "nbformat_minor": 0,
  "metadata": {
    "colab": {
      "provenance": [],
      "include_colab_link": true
    },
    "kernelspec": {
      "name": "python3",
      "display_name": "Python 3"
    },
    "language_info": {
      "name": "python"
    }
  },
  "cells": [
    {
      "cell_type": "markdown",
      "metadata": {
        "id": "view-in-github",
        "colab_type": "text"
      },
      "source": [
        "<a href=\"https://colab.research.google.com/github/cel34/Inferencia-Estad-stica-2022/blob/main/Python_Hero_Bootcamp.ipynb\" target=\"_parent\"><img src=\"https://colab.research.google.com/assets/colab-badge.svg\" alt=\"Open In Colab\"/></a>"
      ]
    },
    {
      "cell_type": "markdown",
      "source": [
        "# Python Hero Bootcamp\n",
        "\n",
        "Profesor: Jonatan Blank\n",
        "\n",
        "Escuela: zero2hero"
      ],
      "metadata": {
        "id": "fy337H8XMeU6"
      }
    },
    {
      "cell_type": "markdown",
      "source": [
        "### 1. Variables"
      ],
      "metadata": {
        "id": "83Y0xy3-MoFf"
      }
    },
    {
      "cell_type": "code",
      "execution_count": null,
      "metadata": {
        "colab": {
          "base_uri": "https://localhost:8080/"
        },
        "id": "gyNYpRyJMN6T",
        "outputId": "301fdfa6-3330-4cc4-8c2f-eb1a17912fe1"
      },
      "outputs": [
        {
          "name": "stdout",
          "output_type": "stream",
          "text": [
            "Ingresa tu nombre: Joshua\n"
          ]
        }
      ],
      "source": [
        "name = input(\"Ingresa tu nombre: \")"
      ]
    },
    {
      "cell_type": "code",
      "source": [
        "print(f\"Hola. mi nombre es {name}\")"
      ],
      "metadata": {
        "colab": {
          "base_uri": "https://localhost:8080/"
        },
        "id": "4HIoh1TbM9hZ",
        "outputId": "ed29e228-0d28-40cc-8b1f-f8a2bb1ffd89"
      },
      "execution_count": null,
      "outputs": [
        {
          "output_type": "stream",
          "name": "stdout",
          "text": [
            "Hola. mi nombre es Joshua\n"
          ]
        }
      ]
    },
    {
      "cell_type": "code",
      "source": [
        "#3 tipos de variables\n",
        "name = \"Jonatan\"\n",
        "age = 27\n",
        "height = 1.79"
      ],
      "metadata": {
        "id": "s5fRg8jrNS9H"
      },
      "execution_count": null,
      "outputs": []
    },
    {
      "cell_type": "code",
      "source": [
        "type(height)"
      ],
      "metadata": {
        "colab": {
          "base_uri": "https://localhost:8080/"
        },
        "id": "Zl6CO2YENbbc",
        "outputId": "1daf143a-2f9d-4c47-e1d8-9ec0e8b30cfb"
      },
      "execution_count": null,
      "outputs": [
        {
          "output_type": "execute_result",
          "data": {
            "text/plain": [
              "float"
            ]
          },
          "metadata": {},
          "execution_count": 10
        }
      ]
    },
    {
      "cell_type": "markdown",
      "source": [
        "### 2. Operaciones con Variables"
      ],
      "metadata": {
        "id": "OBfBT87lNiyx"
      }
    },
    {
      "cell_type": "code",
      "source": [
        "x = 10\n",
        "y = 5000000\n",
        "z = 0.000001"
      ],
      "metadata": {
        "id": "kgVI0sdRNmBA"
      },
      "execution_count": null,
      "outputs": []
    },
    {
      "cell_type": "code",
      "source": [
        "x+y"
      ],
      "metadata": {
        "colab": {
          "base_uri": "https://localhost:8080/"
        },
        "id": "rVEx9_AbNrOp",
        "outputId": "c3345709-77fb-422d-bfa7-dbf5f52f7495"
      },
      "execution_count": null,
      "outputs": [
        {
          "output_type": "execute_result",
          "data": {
            "text/plain": [
              "5000010"
            ]
          },
          "metadata": {},
          "execution_count": 12
        }
      ]
    },
    {
      "cell_type": "code",
      "source": [
        "x-z"
      ],
      "metadata": {
        "colab": {
          "base_uri": "https://localhost:8080/"
        },
        "id": "S60Gj4F4NseS",
        "outputId": "83c77877-949a-4aff-ad55-13dd5d503111"
      },
      "execution_count": null,
      "outputs": [
        {
          "output_type": "execute_result",
          "data": {
            "text/plain": [
              "9.999999"
            ]
          },
          "metadata": {},
          "execution_count": 13
        }
      ]
    },
    {
      "cell_type": "code",
      "source": [
        "y/x"
      ],
      "metadata": {
        "colab": {
          "base_uri": "https://localhost:8080/"
        },
        "id": "PcZzqtQYNuYD",
        "outputId": "07e5f3a3-f71f-4e8a-ea11-f6f12cb96b04"
      },
      "execution_count": null,
      "outputs": [
        {
          "output_type": "execute_result",
          "data": {
            "text/plain": [
              "500000.0"
            ]
          },
          "metadata": {},
          "execution_count": 14
        }
      ]
    },
    {
      "cell_type": "code",
      "source": [
        "y*z"
      ],
      "metadata": {
        "colab": {
          "base_uri": "https://localhost:8080/"
        },
        "id": "H71TewcDNw3r",
        "outputId": "33d8e6c6-80bc-43aa-eef7-005ad2c11b04"
      },
      "execution_count": null,
      "outputs": [
        {
          "output_type": "execute_result",
          "data": {
            "text/plain": [
              "5.0"
            ]
          },
          "metadata": {},
          "execution_count": 15
        }
      ]
    },
    {
      "cell_type": "code",
      "source": [
        "y**z"
      ],
      "metadata": {
        "colab": {
          "base_uri": "https://localhost:8080/"
        },
        "id": "eIAdWv8KNzJm",
        "outputId": "0772a27d-ef01-4f7d-bb49-4fd6ae2fff3f"
      },
      "execution_count": null,
      "outputs": [
        {
          "output_type": "execute_result",
          "data": {
            "text/plain": [
              "1.0000154250674356"
            ]
          },
          "metadata": {},
          "execution_count": 16
        }
      ]
    },
    {
      "cell_type": "code",
      "source": [
        "#modulo\n",
        "rebanadas = 8\n",
        "amigos = 5\n",
        "\n",
        "5*rebanadas%amigos"
      ],
      "metadata": {
        "colab": {
          "base_uri": "https://localhost:8080/"
        },
        "id": "4eYhaEnNN18C",
        "outputId": "b0daddd7-f5ab-4679-a1c6-de6f1e92b36c"
      },
      "execution_count": null,
      "outputs": [
        {
          "output_type": "execute_result",
          "data": {
            "text/plain": [
              "0"
            ]
          },
          "metadata": {},
          "execution_count": 23
        }
      ]
    },
    {
      "cell_type": "markdown",
      "source": [
        "### 3. Logica en variables"
      ],
      "metadata": {
        "id": "XjhrHu2nOPwW"
      }
    },
    {
      "cell_type": "code",
      "source": [
        "#Tricotomia\n",
        "x = 10\n",
        "y = 1"
      ],
      "metadata": {
        "id": "oTM5W_hBOTlW"
      },
      "execution_count": null,
      "outputs": []
    },
    {
      "cell_type": "code",
      "source": [
        "x > y"
      ],
      "metadata": {
        "colab": {
          "base_uri": "https://localhost:8080/"
        },
        "id": "LL79afhFObAD",
        "outputId": "834a9490-5fc7-4c46-9482-5b60820e7cde"
      },
      "execution_count": null,
      "outputs": [
        {
          "output_type": "execute_result",
          "data": {
            "text/plain": [
              "True"
            ]
          },
          "metadata": {},
          "execution_count": 25
        }
      ]
    },
    {
      "cell_type": "code",
      "source": [
        "x < y"
      ],
      "metadata": {
        "colab": {
          "base_uri": "https://localhost:8080/"
        },
        "id": "3kuIfffXOc6L",
        "outputId": "b1b56336-13b3-45d3-d083-ee505703abb4"
      },
      "execution_count": null,
      "outputs": [
        {
          "output_type": "execute_result",
          "data": {
            "text/plain": [
              "False"
            ]
          },
          "metadata": {},
          "execution_count": 26
        }
      ]
    },
    {
      "cell_type": "code",
      "source": [
        "x == y"
      ],
      "metadata": {
        "colab": {
          "base_uri": "https://localhost:8080/"
        },
        "id": "4aYNbP87Oegf",
        "outputId": "3a138238-a64a-4fd0-dd53-f4957eb3067f"
      },
      "execution_count": null,
      "outputs": [
        {
          "output_type": "execute_result",
          "data": {
            "text/plain": [
              "False"
            ]
          },
          "metadata": {},
          "execution_count": 27
        }
      ]
    },
    {
      "cell_type": "code",
      "source": [
        "password = \"secret\"\n",
        "login = input(\"Ingresa tu contraseña: \")\n",
        "\n",
        "password == login"
      ],
      "metadata": {
        "colab": {
          "base_uri": "https://localhost:8080/"
        },
        "id": "qi1cruMTOkLe",
        "outputId": "8bf20575-b729-4d3d-fa83-16659b30f236"
      },
      "execution_count": null,
      "outputs": [
        {
          "name": "stdout",
          "output_type": "stream",
          "text": [
            "Ingresa tu contraseña: secret\n"
          ]
        },
        {
          "output_type": "execute_result",
          "data": {
            "text/plain": [
              "True"
            ]
          },
          "metadata": {},
          "execution_count": 29
        }
      ]
    },
    {
      "cell_type": "markdown",
      "source": [
        "### 4. And & Or"
      ],
      "metadata": {
        "id": "lcdU2DCEOy7f"
      }
    },
    {
      "cell_type": "code",
      "source": [
        "age = int(input(\"Ingresa tu edad: \"))\n",
        "sexo = input(\"Ingresa tu sexo (M/F): \")\n",
        "\n",
        "age >= 18 and sexo == \"F\""
      ],
      "metadata": {
        "colab": {
          "base_uri": "https://localhost:8080/"
        },
        "id": "ddyw9kHXO1qm",
        "outputId": "32c3403b-1ef0-419b-dcc3-136947c8f9f7"
      },
      "execution_count": null,
      "outputs": [
        {
          "name": "stdout",
          "output_type": "stream",
          "text": [
            "Ingresa tu edad: 27\n",
            "Ingresa tu sexo (M/F): M\n"
          ]
        },
        {
          "output_type": "execute_result",
          "data": {
            "text/plain": [
              "False"
            ]
          },
          "metadata": {},
          "execution_count": 30
        }
      ]
    },
    {
      "cell_type": "code",
      "source": [
        "age >= 18 or sexo == \"F\""
      ],
      "metadata": {
        "colab": {
          "base_uri": "https://localhost:8080/"
        },
        "id": "TbzrNuVzPLEi",
        "outputId": "43df1026-bcda-4614-b4c2-fef6bb7ba076"
      },
      "execution_count": null,
      "outputs": [
        {
          "output_type": "execute_result",
          "data": {
            "text/plain": [
              "True"
            ]
          },
          "metadata": {},
          "execution_count": 31
        }
      ]
    },
    {
      "cell_type": "markdown",
      "source": [
        "### 5. Condicionales"
      ],
      "metadata": {
        "id": "qacFzlyAPpvY"
      }
    },
    {
      "cell_type": "code",
      "source": [
        "age = int(input(\"Ingresa tu edad: \"))\n",
        "sexo = input(\"Ingresa tu sexo (M/F): \")\n",
        "\n",
        "if sexo == 'M':\n",
        "  if age >= 18:\n",
        "    print(\"Bienvenido\")\n",
        "  else:\n",
        "    print(\"Debes de ser mayor de edad para ingresar!\")\n",
        "else:\n",
        "  print(\"No puedes entrar\")"
      ],
      "metadata": {
        "colab": {
          "base_uri": "https://localhost:8080/"
        },
        "id": "nMoZKiC7PqcC",
        "outputId": "44f13cfc-98f8-427f-e4fd-1cc5b104be75"
      },
      "execution_count": null,
      "outputs": [
        {
          "output_type": "stream",
          "name": "stdout",
          "text": [
            "Ingresa tu edad: 16\n",
            "Ingresa tu sexo (M/F): M\n",
            "Debes de ser mayor de edad para ingresar!\n"
          ]
        }
      ]
    },
    {
      "cell_type": "code",
      "source": [
        "animal = input(\"Ingresa tu animal favorito: \")\n",
        "\n",
        "if animal == \"tigre\":\n",
        "  print(\"el tigre tambien es mi animal favorito\")\n",
        "elif animal == \"foca\":\n",
        "  print(\"odio a las focas\")\n",
        "else:\n",
        "  print(f\"El {animal} es un buen animal\")"
      ],
      "metadata": {
        "colab": {
          "base_uri": "https://localhost:8080/"
        },
        "id": "wekFF22uQm3X",
        "outputId": "1e374356-161a-423f-c97c-c66486c2fd35"
      },
      "execution_count": null,
      "outputs": [
        {
          "output_type": "stream",
          "name": "stdout",
          "text": [
            "Ingresa tu animal favorito: foca\n",
            "odio a las focas\n"
          ]
        }
      ]
    },
    {
      "cell_type": "markdown",
      "source": [
        "### 6. Listas"
      ],
      "metadata": {
        "id": "5_k3LVh9RElh"
      }
    },
    {
      "cell_type": "code",
      "source": [
        "ingresos = []\n",
        "egresos = []"
      ],
      "metadata": {
        "id": "P_kmQZiGRFX9"
      },
      "execution_count": null,
      "outputs": []
    },
    {
      "cell_type": "code",
      "source": [
        "tipo = input(\"Ingreso o Egreso? (I/E): \")\n",
        "\n",
        "if tipo == \"I\":\n",
        "  i = float(input(\"Ingresa tu ingreso:\"))\n",
        "  ingresos.append(i)\n",
        "  print(f\"Ingresos totales: {sum(ingresos)}\")\n",
        "else:\n",
        "  e = float(input(\"Ingresa tu egreso:\"))\n",
        "  egresos.append(e)\n",
        "  print(f\"Egresos totales: {sum(egresos)}\")\n",
        "\n",
        "balance = sum(ingresos) - sum(egresos)\n",
        "print(f\"Balance: {balance}\")"
      ],
      "metadata": {
        "colab": {
          "base_uri": "https://localhost:8080/"
        },
        "id": "GEngO8fERLUP",
        "outputId": "6a1731ac-7920-4972-b3b3-48fa48ad8bf6"
      },
      "execution_count": null,
      "outputs": [
        {
          "output_type": "stream",
          "name": "stdout",
          "text": [
            "Ingreso o Egreso? (I/E): E\n",
            "Ingresa tu egreso:350\n",
            "Egresos totales: 650.0\n",
            "Balance: 1750.0\n"
          ]
        }
      ]
    },
    {
      "cell_type": "code",
      "source": [
        "ingresos"
      ],
      "metadata": {
        "colab": {
          "base_uri": "https://localhost:8080/"
        },
        "id": "Mo-vgfn5RQD_",
        "outputId": "311b6c24-6f4c-43f8-ef1d-9af4076a2714"
      },
      "execution_count": null,
      "outputs": [
        {
          "output_type": "execute_result",
          "data": {
            "text/plain": [
              "[500, 400]"
            ]
          },
          "metadata": {},
          "execution_count": 11
        }
      ]
    },
    {
      "cell_type": "code",
      "source": [
        "len(ingresos)"
      ],
      "metadata": {
        "colab": {
          "base_uri": "https://localhost:8080/"
        },
        "id": "FaZ4NT6bSD32",
        "outputId": "ab3e0bfe-2a04-47c6-f60b-c725719e9288"
      },
      "execution_count": null,
      "outputs": [
        {
          "output_type": "execute_result",
          "data": {
            "text/plain": [
              "3"
            ]
          },
          "metadata": {},
          "execution_count": 15
        }
      ]
    },
    {
      "cell_type": "code",
      "source": [
        "len(ingresos) == len(egresos)"
      ],
      "metadata": {
        "colab": {
          "base_uri": "https://localhost:8080/"
        },
        "id": "HPMphNZgSIDj",
        "outputId": "a3abe74d-cb34-46a8-dd5c-faacc3154ed9"
      },
      "execution_count": null,
      "outputs": [
        {
          "output_type": "execute_result",
          "data": {
            "text/plain": [
              "False"
            ]
          },
          "metadata": {},
          "execution_count": 16
        }
      ]
    },
    {
      "cell_type": "code",
      "source": [
        "#Indexar las listas\n",
        "ingresos[0]"
      ],
      "metadata": {
        "colab": {
          "base_uri": "https://localhost:8080/"
        },
        "id": "ajBQssuGSMSy",
        "outputId": "cd0b4500-33ff-4fa9-9ccd-53b1f54bef00"
      },
      "execution_count": null,
      "outputs": [
        {
          "output_type": "execute_result",
          "data": {
            "text/plain": [
              "500"
            ]
          },
          "metadata": {},
          "execution_count": 17
        }
      ]
    },
    {
      "cell_type": "code",
      "source": [
        "ingresos[1]"
      ],
      "metadata": {
        "colab": {
          "base_uri": "https://localhost:8080/"
        },
        "id": "Jg6jGThWSTH0",
        "outputId": "2a871082-30b6-4ac0-ae61-cc30b4414efc"
      },
      "execution_count": null,
      "outputs": [
        {
          "output_type": "execute_result",
          "data": {
            "text/plain": [
              "400"
            ]
          },
          "metadata": {},
          "execution_count": 18
        }
      ]
    },
    {
      "cell_type": "code",
      "source": [
        "ingresos[3]"
      ],
      "metadata": {
        "colab": {
          "base_uri": "https://localhost:8080/",
          "height": 143
        },
        "id": "3PZsNMbdSVJX",
        "outputId": "245a12d0-a831-45ef-cb6d-ca7d0109186d"
      },
      "execution_count": null,
      "outputs": [
        {
          "output_type": "error",
          "ename": "IndexError",
          "evalue": "list index out of range",
          "traceback": [
            "\u001b[0;31m---------------------------------------------------------------------------\u001b[0m",
            "\u001b[0;31mIndexError\u001b[0m                                Traceback (most recent call last)",
            "\u001b[0;32m/tmp/ipython-input-19-3811936334.py\u001b[0m in \u001b[0;36m<cell line: 0>\u001b[0;34m()\u001b[0m\n\u001b[0;32m----> 1\u001b[0;31m \u001b[0mingresos\u001b[0m\u001b[0;34m[\u001b[0m\u001b[0;36m3\u001b[0m\u001b[0;34m]\u001b[0m\u001b[0;34m\u001b[0m\u001b[0;34m\u001b[0m\u001b[0m\n\u001b[0m",
            "\u001b[0;31mIndexError\u001b[0m: list index out of range"
          ]
        }
      ]
    },
    {
      "cell_type": "code",
      "source": [
        "ingresos"
      ],
      "metadata": {
        "colab": {
          "base_uri": "https://localhost:8080/"
        },
        "id": "PwIqyzGOSlPC",
        "outputId": "178d8792-c499-4f60-d1bd-8454c39e6f4c"
      },
      "execution_count": null,
      "outputs": [
        {
          "output_type": "execute_result",
          "data": {
            "text/plain": [
              "[500, 400, 100]"
            ]
          },
          "metadata": {},
          "execution_count": 23
        }
      ]
    },
    {
      "cell_type": "code",
      "source": [
        "ingresos[2] = 100"
      ],
      "metadata": {
        "id": "cEuh9raYSfZo"
      },
      "execution_count": null,
      "outputs": []
    },
    {
      "cell_type": "markdown",
      "source": [
        "### 7. Ciclos"
      ],
      "metadata": {
        "id": "ZlEiP9UMSuo3"
      }
    },
    {
      "cell_type": "code",
      "source": [
        "amigos = [\"amigo1\", \"amigo2\", \"amigo3\"]"
      ],
      "metadata": {
        "id": "ojTAAsi5SvXF"
      },
      "execution_count": null,
      "outputs": []
    },
    {
      "cell_type": "code",
      "source": [
        "for amigo in amigos:\n",
        "  print(f\"Te quiero mucho {amigo}\")"
      ],
      "metadata": {
        "colab": {
          "base_uri": "https://localhost:8080/"
        },
        "id": "_9jDGs15S1C0",
        "outputId": "e68b2bd7-21f8-47ea-958d-42ae4014bd91"
      },
      "execution_count": null,
      "outputs": [
        {
          "output_type": "stream",
          "name": "stdout",
          "text": [
            "Te quiero mucho amigo1\n",
            "Te quiero mucho amigo2\n",
            "Te quiero mucho amigo3\n"
          ]
        }
      ]
    },
    {
      "cell_type": "code",
      "source": [
        "intereses = [0,0.05,0.1,0.25,0.6,.9]\n",
        "monto_prestamo = 120000\n",
        "tiempo = 5\n",
        "\n",
        "#calcular el interes compuesto\n",
        "for i in intereses:\n",
        "  ic = monto_prestamo*(1+i)**tiempo\n",
        "  print(f\"Con un interes del {i*100}%, el monto final tras {tiempo} ciclos, es de ${ic}\")"
      ],
      "metadata": {
        "colab": {
          "base_uri": "https://localhost:8080/"
        },
        "id": "WHziAiUOTBOJ",
        "outputId": "7f8c72dd-2449-44c0-f81d-c3f730b589ac"
      },
      "execution_count": null,
      "outputs": [
        {
          "output_type": "stream",
          "name": "stdout",
          "text": [
            "Con un interes del 0%, el monto final tras 5 ciclos, es de $120000\n",
            "Con un interes del 5.0%, el monto final tras 5 ciclos, es de $153153.78750000003\n",
            "Con un interes del 10.0%, el monto final tras 5 ciclos, es de $193261.20000000007\n",
            "Con un interes del 25.0%, el monto final tras 5 ciclos, es de $366210.9375\n",
            "Con un interes del 60.0%, el monto final tras 5 ciclos, es de $1258291.2000000004\n",
            "Con un interes del 90.0%, el monto final tras 5 ciclos, es de $2971318.799999999\n"
          ]
        }
      ]
    },
    {
      "cell_type": "code",
      "source": [
        "import matplotlib.pyplot as plt"
      ],
      "metadata": {
        "id": "YjypvHAyTnPj"
      },
      "execution_count": null,
      "outputs": []
    },
    {
      "cell_type": "code",
      "source": [
        "plt.figure()\n",
        "for i in intereses:\n",
        "  lista_i = []\n",
        "  for t in range(tiempo+1):\n",
        "    ic = monto_prestamo*(1+i)**t\n",
        "    lista_i.append(ic)\n",
        "  plt.plot(lista_i, label=f\"{i*100}%\")\n",
        "plt.legend()\n",
        "plt.show()"
      ],
      "metadata": {
        "colab": {
          "base_uri": "https://localhost:8080/",
          "height": 445
        },
        "id": "CB0mEoJNTrrO",
        "outputId": "f8641bf8-52f0-4c2c-a6e3-ec53cfc2249b"
      },
      "execution_count": null,
      "outputs": [
        {
          "output_type": "display_data",
          "data": {
            "text/plain": [
              "<Figure size 640x480 with 1 Axes>"
            ],
            "image/png": "[encoded data removed]"
          },
          "metadata": {}
        }
      ]
    },
    {
      "cell_type": "markdown",
      "source": [
        "### 8. Diccionarios"
      ],
      "metadata": {
        "id": "d3vSM_drUbCY"
      }
    },
    {
      "cell_type": "code",
      "source": [
        "portafolio = {\n",
        "    'name': 'Jonatan',\n",
        "    'last name': 'Blank',\n",
        "    'stocks': ['stock1','stock2','stock3'],\n",
        "    'balance': {\n",
        "        'income': 1000,\n",
        "        'expenses': 500\n",
        "    }\n",
        "}"
      ],
      "metadata": {
        "id": "e7-CfWorUbx3"
      },
      "execution_count": null,
      "outputs": []
    },
    {
      "cell_type": "code",
      "source": [
        "portafolio['balance']['income']"
      ],
      "metadata": {
        "colab": {
          "base_uri": "https://localhost:8080/"
        },
        "id": "yR0lop0QU1Rx",
        "outputId": "ffd4421c-0091-4eb2-807c-3e285bfb4009"
      },
      "execution_count": null,
      "outputs": [
        {
          "output_type": "execute_result",
          "data": {
            "text/plain": [
              "1000"
            ]
          },
          "metadata": {},
          "execution_count": 36
        }
      ]
    },
    {
      "cell_type": "code",
      "source": [
        "portafolio.keys()"
      ],
      "metadata": {
        "colab": {
          "base_uri": "https://localhost:8080/"
        },
        "id": "NgLJsH09VHLa",
        "outputId": "767e4892-5178-4e32-d2a7-2a1b9bdabf56"
      },
      "execution_count": null,
      "outputs": [
        {
          "output_type": "execute_result",
          "data": {
            "text/plain": [
              "dict_keys(['name', 'last name', 'stocks', 'balance'])"
            ]
          },
          "metadata": {},
          "execution_count": 37
        }
      ]
    },
    {
      "cell_type": "code",
      "source": [
        "portafolio.values()"
      ],
      "metadata": {
        "colab": {
          "base_uri": "https://localhost:8080/"
        },
        "id": "evVWXC3LVLwq",
        "outputId": "3b40d94a-16b4-401f-dcbd-5af55d389ce3"
      },
      "execution_count": null,
      "outputs": [
        {
          "output_type": "execute_result",
          "data": {
            "text/plain": [
              "dict_values(['Jonatan', 'Blank', ['stock1', 'stock2', 'stock3'], {'income': 1000, 'expenses': 500}])"
            ]
          },
          "metadata": {},
          "execution_count": 38
        }
      ]
    },
    {
      "cell_type": "code",
      "source": [
        "user = {\n",
        "    'name': 'Jonatan',\n",
        "    'last name': 'Blank',\n",
        "    'username': 'blankhall98',\n",
        "    'password': 'secret',\n",
        "    'friends': {\n",
        "        'friend1': {'birthday': '10/09/1997'},\n",
        "        'friend2': {'birthday': '10/09/1998'},\n",
        "        'friend3': {'birthday': '10/09/1999'}\n",
        "    }\n",
        "}\n",
        "\n",
        "#JSON = Javascript Object Notation"
      ],
      "metadata": {
        "id": "OSGa-HVpVQA-"
      },
      "execution_count": null,
      "outputs": []
    },
    {
      "cell_type": "code",
      "source": [
        "username = input(\"Ingresa tu nombre de usuario: \")\n",
        "password = input(\"Ingresa tu contraseña: \")\n",
        "\n",
        "if username == user['username'] and password == user['password']:\n",
        "  print(\"Bienvenido\")\n",
        "else:\n",
        "  print(\"Usuario o contraseña incorrectos\")"
      ],
      "metadata": {
        "colab": {
          "base_uri": "https://localhost:8080/"
        },
        "id": "YCThHHEoVwGm",
        "outputId": "1009c6d2-c6d2-484d-eb67-6635a935db76"
      },
      "execution_count": null,
      "outputs": [
        {
          "output_type": "stream",
          "name": "stdout",
          "text": [
            "Ingresa tu nombre de usuario: blankhall98\n",
            "Ingresa tu contraseña: secret\n",
            "Bienvenido\n"
          ]
        }
      ]
    },
    {
      "cell_type": "code",
      "source": [
        "for friend in user['friends'].keys():\n",
        "  print(f\"Tu amigo {friend} cumple el dia {user['friends'][friend]['birthday']}\")"
      ],
      "metadata": {
        "colab": {
          "base_uri": "https://localhost:8080/"
        },
        "id": "xeNtEGdLV-KH",
        "outputId": "8c1b1b47-bd05-4803-fd58-3f35403c0c2e"
      },
      "execution_count": null,
      "outputs": [
        {
          "output_type": "stream",
          "name": "stdout",
          "text": [
            "Tu amigo friend1 cumple el dia 10/09/1997\n",
            "Tu amigo friend2 cumple el dia 10/09/1998\n",
            "Tu amigo friend3 cumple el dia 10/09/1999\n"
          ]
        }
      ]
    },
    {
      "cell_type": "code",
      "source": [
        "friend = input(\"Ingresa el nombre de tu amigo:\")\n",
        "\n",
        "if friend in user['friends'].keys():\n",
        "  print(f\"Tu amigo {friend} cumple el dia {user['friends'][friend]['birthday']}\")\n",
        "else:\n",
        "  print(f\"Tu amigo {friend} no esta en tu lista de amigos\")"
      ],
      "metadata": {
        "colab": {
          "base_uri": "https://localhost:8080/"
        },
        "id": "6Eb-LhbDWVqX",
        "outputId": "fb262d0c-1264-408f-866f-c92b7ed13839"
      },
      "execution_count": null,
      "outputs": [
        {
          "output_type": "stream",
          "name": "stdout",
          "text": [
            "Ingresa el nombre de tu amigo:friend2\n",
            "Tu amigo friend2 cumple el dia 10/09/1998\n"
          ]
        }
      ]
    },
    {
      "cell_type": "markdown",
      "source": [
        "### 9. Funciones"
      ],
      "metadata": {
        "id": "Ou2VM_7oWxm5"
      }
    },
    {
      "cell_type": "code",
      "source": [
        "def IC(monto,interes,tiempo):\n",
        "  return monto*(1+interes)**tiempo"
      ],
      "metadata": {
        "id": "Yao4V3-IWybc"
      },
      "execution_count": null,
      "outputs": []
    },
    {
      "cell_type": "code",
      "source": [
        "IC(120000,0.60,5)"
      ],
      "metadata": {
        "colab": {
          "base_uri": "https://localhost:8080/"
        },
        "id": "DNiKqdhXW8x6",
        "outputId": "ce0d2709-a7a5-4960-e7b5-4db2eba7fe76"
      },
      "execution_count": null,
      "outputs": [
        {
          "output_type": "execute_result",
          "data": {
            "text/plain": [
              "1258291.2000000004"
            ]
          },
          "metadata": {},
          "execution_count": 45
        }
      ]
    },
    {
      "cell_type": "code",
      "source": [
        "def balance(ingresos,egresos):\n",
        "  return sum(ingresos)-sum(egresos)"
      ],
      "metadata": {
        "id": "A7hIsHlAXIjd"
      },
      "execution_count": null,
      "outputs": []
    },
    {
      "cell_type": "code",
      "source": [
        "I = [100,150,200]\n",
        "E = [50,75,100]\n",
        "\n",
        "balance(I,E)"
      ],
      "metadata": {
        "colab": {
          "base_uri": "https://localhost:8080/"
        },
        "id": "QgTKU8VdXPfB",
        "outputId": "323d237b-5dba-407a-e9c4-9717c072b561"
      },
      "execution_count": null,
      "outputs": [
        {
          "output_type": "execute_result",
          "data": {
            "text/plain": [
              "225"
            ]
          },
          "metadata": {},
          "execution_count": 47
        }
      ]
    },
    {
      "cell_type": "code",
      "source": [
        "def simulation(monto,intereses,tiempo):\n",
        "  plt.figure()\n",
        "  for i in intereses:\n",
        "    lista_i = []\n",
        "    for t in range(tiempo+1):\n",
        "      lista_i.append(IC(monto,i,t))\n",
        "    plt.plot(lista_i, label=f\"{i*100}%\")\n",
        "  plt.legend()\n",
        "  plt.show()"
      ],
      "metadata": {
        "id": "MxJPZ71eXZ2Q"
      },
      "execution_count": null,
      "outputs": []
    },
    {
      "cell_type": "code",
      "source": [
        "simulation(10000,[0.11,0.16,0.2],10)"
      ],
      "metadata": {
        "colab": {
          "base_uri": "https://localhost:8080/",
          "height": 430
        },
        "id": "y5kRyyjAX1jJ",
        "outputId": "5f5c343d-b798-4bca-b9c1-11baa0ec8042"
      },
      "execution_count": null,
      "outputs": [
        {
          "output_type": "display_data",
          "data": {
            "text/plain": [
              "<Figure size 640x480 with 1 Axes>"
            ],
            "image/png": "[encoded data removed]"
          },
          "metadata": {}
        }
      ]
    },
    {
      "cell_type": "markdown",
      "source": [
        "### 10. Funciones Lambda"
      ],
      "metadata": {
        "id": "-3XQbWoOPVYp"
      }
    },
    {
      "cell_type": "code",
      "source": [
        "i_c = lambda monto,interes,tiempo: monto*(1+interes)**tiempo\n",
        "i_s = lambda monto,interes,tiempo: monto*(1+interes*tiempo)"
      ],
      "metadata": {
        "id": "3oDeHRRFYElP"
      },
      "execution_count": null,
      "outputs": []
    },
    {
      "cell_type": "code",
      "source": [
        "i_c(120000,0.60,5)"
      ],
      "metadata": {
        "colab": {
          "base_uri": "https://localhost:8080/"
        },
        "id": "PpNAhGl4YYmx",
        "outputId": "ceee1481-9d75-42ef-970c-67bc5f586692"
      },
      "execution_count": null,
      "outputs": [
        {
          "output_type": "execute_result",
          "data": {
            "text/plain": [
              "1258291.2000000004"
            ]
          },
          "metadata": {},
          "execution_count": 52
        }
      ]
    },
    {
      "cell_type": "code",
      "source": [
        "funciones = {\n",
        "    'Interes Compuesto': i_c,\n",
        "    'Interes Simple': i_s\n",
        "}"
      ],
      "metadata": {
        "id": "je_3FlUJYfUv"
      },
      "execution_count": null,
      "outputs": []
    },
    {
      "cell_type": "code",
      "source": [
        "monto = 10000\n",
        "interes = 0.11\n",
        "tiempo = 10\n",
        "\n",
        "for func in funciones.keys():\n",
        "  print(f\"El monto final con {func} es de {funciones[func](monto,interes,tiempo)}\")"
      ],
      "metadata": {
        "colab": {
          "base_uri": "https://localhost:8080/"
        },
        "id": "8c5YsFcHYmGy",
        "outputId": "62a2bf24-130e-46bd-8629-fcbaba9be8df"
      },
      "execution_count": null,
      "outputs": [
        {
          "output_type": "stream",
          "name": "stdout",
          "text": [
            "El monto final con Interes Compuesto es de 28394.20986069018\n",
            "El monto final con Interes Simple es de 21000.0\n"
          ]
        }
      ]
    },
    {
      "cell_type": "markdown",
      "source": [
        "### 11. Programacion Orientada a Objetos"
      ],
      "metadata": {
        "id": "x0ApkLNkPkHd"
      }
    }
  ]
}