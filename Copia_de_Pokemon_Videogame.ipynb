{
  "nbformat": 4,
  "nbformat_minor": 0,
  "metadata": {
    "colab": {
      "provenance": [],
      "include_colab_link": true
    },
    "kernelspec": {
      "name": "python3",
      "display_name": "Python 3"
    },
    "language_info": {
      "name": "python"
    }
  },
  "cells": [
    {
      "cell_type": "markdown",
      "metadata": {
        "id": "view-in-github",
        "colab_type": "text"
      },
      "source": [
        "<a href=\"https://colab.research.google.com/github/cel34/Inferencia-Estad-stica-2022/blob/main/Copia_de_Pokemon_Videogame.ipynb\" target=\"_parent\"><img src=\"https://colab.research.google.com/assets/colab-badge.svg\" alt=\"Open In Colab\"/></a>"
      ]
    },
    {
      "cell_type": "markdown",
      "source": [
        "# Pokemon Videogame"
      ],
      "metadata": {
        "id": "Wx1nlv8FIvto"
      }
    },
    {
      "cell_type": "code",
      "execution_count": null,
      "metadata": {
        "id": "1N24ER6IIs2p"
      },
      "outputs": [],
      "source": [
        "# Funcional vs Objects"
      ]
    },
    {
      "cell_type": "code",
      "source": [
        "name = 'Jonatan'"
      ],
      "metadata": {
        "id": "wrl6GtkDR13P"
      },
      "execution_count": 2,
      "outputs": []
    },
    {
      "cell_type": "code",
      "source": [
        "print(f'My name is {name}')"
      ],
      "metadata": {
        "colab": {
          "base_uri": "https://localhost:8080/"
        },
        "id": "zsnpGalxR3o0",
        "outputId": "94a79d41-6922-4054-dc9e-0294ddc13d91"
      },
      "execution_count": 3,
      "outputs": [
        {
          "output_type": "stream",
          "name": "stdout",
          "text": [
            "My name is Jonatan\n"
          ]
        }
      ]
    },
    {
      "cell_type": "code",
      "source": [
        "# Obtain random values"
      ],
      "metadata": {
        "id": "kwl8CGZLKxrU"
      },
      "execution_count": 4,
      "outputs": []
    },
    {
      "cell_type": "code",
      "source": [
        "import numpy as np"
      ],
      "metadata": {
        "id": "iDSii5TVKz-I"
      },
      "execution_count": 5,
      "outputs": []
    },
    {
      "cell_type": "code",
      "source": [
        "np.random.choice(range(15,25))"
      ],
      "metadata": {
        "colab": {
          "base_uri": "https://localhost:8080/"
        },
        "id": "Faifg8YGK2O_",
        "outputId": "2d032a98-4455-4b13-fb00-997ee3c395f5"
      },
      "execution_count": 6,
      "outputs": [
        {
          "output_type": "execute_result",
          "data": {
            "text/plain": [
              "np.int64(22)"
            ]
          },
          "metadata": {},
          "execution_count": 6
        }
      ]
    },
    {
      "cell_type": "code",
      "source": [
        "#Clase: Pokemon\n",
        "class Pokemon:\n",
        "\n",
        "  def __init__(self, pokemon):\n",
        "    self.name = pokemon['name']\n",
        "    self.life = pokemon['life']\n",
        "    self.min_attack = pokemon['min_attack']\n",
        "    self.max_attack = pokemon['max_attack']\n",
        "    self.alive = True\n",
        "\n",
        "  def __repr__(self):\n",
        "    return f'Pokemon: {self.name}'\n",
        "\n",
        "  def talk(self):\n",
        "    print(f'My name is {self.name}')\n",
        "\n",
        "  def attack(self):\n",
        "    print(f'It is {self.name}s turn!')\n",
        "    select_attack_type = input('Select attack type: variable or constant: ')\n",
        "    if select_attack_type == 'variable':\n",
        "      atk = self.attack_variable()\n",
        "    else:\n",
        "      atk = self.attack_constant()\n",
        "    print(f'{self.name} did {atk} damage!')\n",
        "    return atk\n",
        "\n",
        "  def receive_attack(self, atk):\n",
        "    self.life = self.life - atk\n",
        "    print(f'{self.name} has {self.life} left')\n",
        "    self.is_alive()\n",
        "\n",
        "  def is_alive(self):\n",
        "    if self.life >= 0:\n",
        "      pass\n",
        "    else:\n",
        "      self.alive = False\n",
        "      print(f'{self.name} is dead')\n",
        "\n",
        "  def attack_variable(self):\n",
        "    atk = np.random.choice(range(self.min_attack-10, self.max_attack+10))\n",
        "    return atk\n",
        "\n",
        "  def attack_constant(self):\n",
        "    atk = (self.max_attack + self.min_attack)/2\n",
        "    return atk"
      ],
      "metadata": {
        "id": "W2MeJTOpJeaN"
      },
      "execution_count": 7,
      "outputs": []
    },
    {
      "cell_type": "code",
      "source": [
        "POKEMONS = {\n",
        "    'Pikachu': {\n",
        "        'name': 'Pikachu',\n",
        "        'life': 25,\n",
        "        'min_attack': 25,\n",
        "        'max_attack': 35\n",
        "    },\n",
        "    'Charmander': {\n",
        "        'name': 'Charmander',\n",
        "        'life': 100,\n",
        "        'min_attack': 5,\n",
        "        'max_attack': 15\n",
        "    },\n",
        "    'Bulbasaur': {\n",
        "        'name': 'Bulbasaur',\n",
        "        'life': 150,\n",
        "        'min_attack': 10,\n",
        "        'max_attack': 20\n",
        "    },\n",
        "    'Squirtle': {\n",
        "        'name': 'Squirtle',\n",
        "        'life': 120,\n",
        "        'min_attack': 8,\n",
        "        'max_attack': 18\n",
        "    }\n",
        "}"
      ],
      "metadata": {
        "id": "GqdZyc_mMkgY"
      },
      "execution_count": 9,
      "outputs": []
    },
    {
      "cell_type": "code",
      "source": [
        "pokemon1 = Pokemon(POKEMONS['Pikachu'])\n",
        "pokemon2 = Pokemon(POKEMONS['Charmander'])"
      ],
      "metadata": {
        "id": "PHi44SYkJ_g4"
      },
      "execution_count": null,
      "outputs": []
    },
    {
      "cell_type": "code",
      "source": [
        "print(pokemon1)"
      ],
      "metadata": {
        "colab": {
          "base_uri": "https://localhost:8080/"
        },
        "id": "AUcI2bN2Slxs",
        "outputId": "84efafa8-b2a1-4827-f0fb-043f18078d40"
      },
      "execution_count": null,
      "outputs": [
        {
          "output_type": "stream",
          "name": "stdout",
          "text": [
            "Pokemon: Pikachu\n"
          ]
        }
      ]
    },
    {
      "cell_type": "code",
      "source": [
        "pokemon1.attack()"
      ],
      "metadata": {
        "colab": {
          "base_uri": "https://localhost:8080/"
        },
        "id": "GcRSu2-IKGFe",
        "outputId": "bd5e2a29-2701-4784-b60d-446cc75f13dc"
      },
      "execution_count": null,
      "outputs": [
        {
          "output_type": "stream",
          "name": "stdout",
          "text": [
            "Pikachu attacked with a value of 15\n"
          ]
        },
        {
          "output_type": "execute_result",
          "data": {
            "text/plain": [
              "np.int64(15)"
            ]
          },
          "metadata": {},
          "execution_count": 100
        }
      ]
    },
    {
      "cell_type": "code",
      "source": [
        "pokemon1.life"
      ],
      "metadata": {
        "colab": {
          "base_uri": "https://localhost:8080/"
        },
        "id": "tGt98_b4MU-I",
        "outputId": "f29b4224-969b-4b34-bf93-8e4875ad9486"
      },
      "execution_count": null,
      "outputs": [
        {
          "output_type": "execute_result",
          "data": {
            "text/plain": [
              "15"
            ]
          },
          "metadata": {},
          "execution_count": 77
        }
      ]
    },
    {
      "cell_type": "code",
      "source": [
        "pokemon1.receive_attack(10)"
      ],
      "metadata": {
        "colab": {
          "base_uri": "https://localhost:8080/"
        },
        "id": "Mu1oJ_S1MXUw",
        "outputId": "72527d87-1529-42e7-9137-70187d02a814"
      },
      "execution_count": null,
      "outputs": [
        {
          "output_type": "stream",
          "name": "stdout",
          "text": [
            "Pikachu has -5 left\n",
            "Pikachu is dead\n"
          ]
        }
      ]
    },
    {
      "cell_type": "code",
      "source": [
        "class VideoGame:\n",
        "\n",
        "  def __init__(self, pokemons):\n",
        "    self.pokemons = pokemons\n",
        "    self.player1 = self.create_player(self.select_player1())\n",
        "    self.player2 = self.create_player(self.select_player2())\n",
        "\n",
        "  def select_player1(self):\n",
        "    player1 = input('Select Pokemon 1: ')\n",
        "    return player1\n",
        "\n",
        "  def select_player2(self):\n",
        "    player2 = input('Select Pokemon 2: ')\n",
        "    return player2\n",
        "\n",
        "  def create_player(self, player_name):\n",
        "    player = Pokemon(self.pokemons[player_name])\n",
        "    return player\n",
        "\n",
        "  def start(self):\n",
        "    print('Game Started')\n",
        "    while self.player1.alive and self.player2.alive:\n",
        "      attack1 = self.player1.attack()\n",
        "      self.player2.receive_attack(attack1)\n",
        "      if self.player2.alive:\n",
        "        attack2 = self.player2.attack()\n",
        "        self.player1.receive_attack(attack2)\n",
        "    print('Game Over')"
      ],
      "metadata": {
        "id": "5ZBEIKpSNOj9"
      },
      "execution_count": null,
      "outputs": []
    },
    {
      "cell_type": "code",
      "source": [
        "app = VideoGame(POKEMONS)"
      ],
      "metadata": {
        "colab": {
          "base_uri": "https://localhost:8080/"
        },
        "id": "5g8uJoR_N6Lf",
        "outputId": "0d95efdf-22c0-4d31-cf79-6a777976fd50"
      },
      "execution_count": null,
      "outputs": [
        {
          "name": "stdout",
          "output_type": "stream",
          "text": [
            "Select Pokemon 1: Pikachu\n",
            "Select Pokemon 2: Squirtle\n"
          ]
        }
      ]
    },
    {
      "cell_type": "code",
      "source": [
        "app.start()"
      ],
      "metadata": {
        "colab": {
          "base_uri": "https://localhost:8080/"
        },
        "id": "d8IPywhOORox",
        "outputId": "7201f574-b78e-427f-deda-5fa87bdc2f2d"
      },
      "execution_count": null,
      "outputs": [
        {
          "output_type": "stream",
          "name": "stdout",
          "text": [
            "Game Started\n",
            "It is Pikachus turn!\n",
            "Select attack type: variable or constant: variable\n",
            "Squirtle has 86 left\n",
            "It is Squirtles turn!\n",
            "Select attack type: variable or constant: constant\n",
            "Pikachu has 12.0 left\n",
            "It is Pikachus turn!\n",
            "Select attack type: variable or constant: variable\n",
            "Squirtle has 61 left\n",
            "It is Squirtles turn!\n",
            "Select attack type: variable or constant: variable\n",
            "Pikachu has -9.0 left\n",
            "Pikachu is dead\n",
            "Game Over\n"
          ]
        }
      ]
    }
  ]
}